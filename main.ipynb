{
  "cells": [
    {
      "cell_type": "markdown",
      "metadata": {
        "colab_type": "text",
        "id": "view-in-github"
      },
      "source": [
        "<a href=\"https://colab.research.google.com/github/Impact-Dev1/Road-Traffic-Severity-Classification/blob/main/main.ipynb\" target=\"_parent\"><img src=\"https://colab.research.google.com/assets/colab-badge.svg\" alt=\"Open In Colab\"/></a>"
      ]
    },
    {
      "cell_type": "code",
      "execution_count": 2,
      "metadata": {
        "id": "qqOg2ZUqLD6_"
      },
      "outputs": [],
      "source": [
        "import pandas as pd"
      ]
    },
    {
      "cell_type": "code",
      "execution_count": 3,
      "metadata": {},
      "outputs": [],
      "source": [
        "df = pd.read_csv(\"./data/dataset.csv\")"
      ]
    },
    {
      "cell_type": "code",
      "execution_count": 6,
      "metadata": {},
      "outputs": [
        {
          "data": {
            "text/html": [
              "<div>\n",
              "<style scoped>\n",
              "    .dataframe tbody tr th:only-of-type {\n",
              "        vertical-align: middle;\n",
              "    }\n",
              "\n",
              "    .dataframe tbody tr th {\n",
              "        vertical-align: top;\n",
              "    }\n",
              "\n",
              "    .dataframe thead th {\n",
              "        text-align: right;\n",
              "    }\n",
              "</style>\n",
              "<table border=\"1\" class=\"dataframe\">\n",
              "  <thead>\n",
              "    <tr style=\"text-align: right;\">\n",
              "      <th></th>\n",
              "      <th>Age_band_of_driver</th>\n",
              "      <th>Sex_of_driver</th>\n",
              "      <th>Educational_level</th>\n",
              "      <th>Driving_experience</th>\n",
              "      <th>Type_of_vehicle</th>\n",
              "      <th>Service_year_of_vehicle</th>\n",
              "      <th>Defect_of_vehicle</th>\n",
              "      <th>Area_accident_occured</th>\n",
              "      <th>Lanes_or_Medians</th>\n",
              "      <th>Road_allignment</th>\n",
              "      <th>...</th>\n",
              "      <th>Vehicle_movement</th>\n",
              "      <th>Casualty_class</th>\n",
              "      <th>Sex_of_casualty</th>\n",
              "      <th>Age_band_of_casualty</th>\n",
              "      <th>Casualty_severity</th>\n",
              "      <th>Work_of_casuality</th>\n",
              "      <th>Fitness_of_casuality</th>\n",
              "      <th>Pedestrian_movement</th>\n",
              "      <th>Cause_of_accident</th>\n",
              "      <th>Accident_severity</th>\n",
              "    </tr>\n",
              "  </thead>\n",
              "  <tbody>\n",
              "    <tr>\n",
              "      <th>0</th>\n",
              "      <td>18-30</td>\n",
              "      <td>Male</td>\n",
              "      <td>Junior high school</td>\n",
              "      <td>2-5yr</td>\n",
              "      <td>NaN</td>\n",
              "      <td>NaN</td>\n",
              "      <td>No defect</td>\n",
              "      <td>Industrial areas</td>\n",
              "      <td>Unknown</td>\n",
              "      <td>Tangent road with flat terrain</td>\n",
              "      <td>...</td>\n",
              "      <td>Going straight</td>\n",
              "      <td>na</td>\n",
              "      <td>na</td>\n",
              "      <td>na</td>\n",
              "      <td>na</td>\n",
              "      <td>Driver</td>\n",
              "      <td>Normal</td>\n",
              "      <td>Not a Pedestrian</td>\n",
              "      <td>Changing lane to the right</td>\n",
              "      <td>Slight Injury</td>\n",
              "    </tr>\n",
              "    <tr>\n",
              "      <th>1</th>\n",
              "      <td>31-50</td>\n",
              "      <td>Male</td>\n",
              "      <td>Junior high school</td>\n",
              "      <td>1-2yr</td>\n",
              "      <td>Public (&gt; 45 seats)</td>\n",
              "      <td>1-2yr</td>\n",
              "      <td>No defect</td>\n",
              "      <td>Industrial areas</td>\n",
              "      <td>Double carriageway (median)</td>\n",
              "      <td>Tangent road with flat terrain</td>\n",
              "      <td>...</td>\n",
              "      <td>Going straight</td>\n",
              "      <td>na</td>\n",
              "      <td>na</td>\n",
              "      <td>na</td>\n",
              "      <td>na</td>\n",
              "      <td>Driver</td>\n",
              "      <td>Normal</td>\n",
              "      <td>Not a Pedestrian</td>\n",
              "      <td>Overtaking</td>\n",
              "      <td>Slight Injury</td>\n",
              "    </tr>\n",
              "    <tr>\n",
              "      <th>2</th>\n",
              "      <td>18-30</td>\n",
              "      <td>Male</td>\n",
              "      <td>Junior high school</td>\n",
              "      <td>1-2yr</td>\n",
              "      <td>Public (12 seats)</td>\n",
              "      <td>NaN</td>\n",
              "      <td>NaN</td>\n",
              "      <td>Recreational areas</td>\n",
              "      <td>Two-way (divided with broken lines road marking)</td>\n",
              "      <td>Tangent road with flat terrain</td>\n",
              "      <td>...</td>\n",
              "      <td>Going straight</td>\n",
              "      <td>Driver or rider</td>\n",
              "      <td>Male</td>\n",
              "      <td>Over 51</td>\n",
              "      <td>3</td>\n",
              "      <td>Driver</td>\n",
              "      <td>Normal</td>\n",
              "      <td>Not a Pedestrian</td>\n",
              "      <td>Changing lane to the right</td>\n",
              "      <td>Slight Injury</td>\n",
              "    </tr>\n",
              "    <tr>\n",
              "      <th>3</th>\n",
              "      <td>Under 18</td>\n",
              "      <td>Male</td>\n",
              "      <td>Junior high school</td>\n",
              "      <td>2-5yr</td>\n",
              "      <td>Lorry (41?100Q)</td>\n",
              "      <td>Unknown</td>\n",
              "      <td>No defect</td>\n",
              "      <td>Office areas</td>\n",
              "      <td>Two-way (divided with broken lines road marking)</td>\n",
              "      <td>Tangent road with flat terrain</td>\n",
              "      <td>...</td>\n",
              "      <td>Going straight</td>\n",
              "      <td>na</td>\n",
              "      <td>na</td>\n",
              "      <td>na</td>\n",
              "      <td>na</td>\n",
              "      <td>Driver</td>\n",
              "      <td>Normal</td>\n",
              "      <td>Not a Pedestrian</td>\n",
              "      <td>Changing lane to the left</td>\n",
              "      <td>Slight Injury</td>\n",
              "    </tr>\n",
              "    <tr>\n",
              "      <th>4</th>\n",
              "      <td>18-30</td>\n",
              "      <td>Male</td>\n",
              "      <td>Junior high school</td>\n",
              "      <td>Above 10yr</td>\n",
              "      <td>Public (12 seats)</td>\n",
              "      <td>Unknown</td>\n",
              "      <td>No defect</td>\n",
              "      <td>Other</td>\n",
              "      <td>Two-way (divided with broken lines road marking)</td>\n",
              "      <td>Tangent road with flat terrain</td>\n",
              "      <td>...</td>\n",
              "      <td>Going straight</td>\n",
              "      <td>na</td>\n",
              "      <td>na</td>\n",
              "      <td>na</td>\n",
              "      <td>na</td>\n",
              "      <td>Driver</td>\n",
              "      <td>Normal</td>\n",
              "      <td>Not a Pedestrian</td>\n",
              "      <td>No distancing</td>\n",
              "      <td>Slight Injury</td>\n",
              "    </tr>\n",
              "    <tr>\n",
              "      <th>...</th>\n",
              "      <td>...</td>\n",
              "      <td>...</td>\n",
              "      <td>...</td>\n",
              "      <td>...</td>\n",
              "      <td>...</td>\n",
              "      <td>...</td>\n",
              "      <td>...</td>\n",
              "      <td>...</td>\n",
              "      <td>...</td>\n",
              "      <td>...</td>\n",
              "      <td>...</td>\n",
              "      <td>...</td>\n",
              "      <td>...</td>\n",
              "      <td>...</td>\n",
              "      <td>...</td>\n",
              "      <td>...</td>\n",
              "      <td>...</td>\n",
              "      <td>...</td>\n",
              "      <td>...</td>\n",
              "      <td>...</td>\n",
              "      <td>...</td>\n",
              "    </tr>\n",
              "    <tr>\n",
              "      <th>12311</th>\n",
              "      <td>18-30</td>\n",
              "      <td>Male</td>\n",
              "      <td>Junior high school</td>\n",
              "      <td>Below 1yr</td>\n",
              "      <td>Public (12 seats)</td>\n",
              "      <td>2-5yrs</td>\n",
              "      <td>No defect</td>\n",
              "      <td>Other</td>\n",
              "      <td>other</td>\n",
              "      <td>Tangent road with flat terrain</td>\n",
              "      <td>...</td>\n",
              "      <td>Going straight</td>\n",
              "      <td>Pedestrian</td>\n",
              "      <td>Female</td>\n",
              "      <td>18-30</td>\n",
              "      <td>3</td>\n",
              "      <td>Driver</td>\n",
              "      <td>Normal</td>\n",
              "      <td>In carriageway, statioNot a Pedestrianry - not...</td>\n",
              "      <td>No priority to vehicle</td>\n",
              "      <td>Slight Injury</td>\n",
              "    </tr>\n",
              "    <tr>\n",
              "      <th>12312</th>\n",
              "      <td>18-30</td>\n",
              "      <td>Male</td>\n",
              "      <td>Junior high school</td>\n",
              "      <td>Below 1yr</td>\n",
              "      <td>Automobile</td>\n",
              "      <td>Unknown</td>\n",
              "      <td>No defect</td>\n",
              "      <td>Other</td>\n",
              "      <td>other</td>\n",
              "      <td>Tangent road with flat terrain</td>\n",
              "      <td>...</td>\n",
              "      <td>Going straight</td>\n",
              "      <td>Pedestrian</td>\n",
              "      <td>Male</td>\n",
              "      <td>Under 18</td>\n",
              "      <td>2</td>\n",
              "      <td>Self-employed</td>\n",
              "      <td>Normal</td>\n",
              "      <td>Unknown or other</td>\n",
              "      <td>Changing lane to the right</td>\n",
              "      <td>Slight Injury</td>\n",
              "    </tr>\n",
              "    <tr>\n",
              "      <th>12313</th>\n",
              "      <td>18-30</td>\n",
              "      <td>Male</td>\n",
              "      <td>High school</td>\n",
              "      <td>Below 1yr</td>\n",
              "      <td>Public (12 seats)</td>\n",
              "      <td>1-2yr</td>\n",
              "      <td>No defect</td>\n",
              "      <td>Industrial areas</td>\n",
              "      <td>other</td>\n",
              "      <td>Tangent road with flat terrain</td>\n",
              "      <td>...</td>\n",
              "      <td>Going straight</td>\n",
              "      <td>Pedestrian</td>\n",
              "      <td>Female</td>\n",
              "      <td>18-30</td>\n",
              "      <td>3</td>\n",
              "      <td>Driver</td>\n",
              "      <td>Normal</td>\n",
              "      <td>Crossing from nearside - masked by parked or s...</td>\n",
              "      <td>Overturning</td>\n",
              "      <td>Serious Injury</td>\n",
              "    </tr>\n",
              "    <tr>\n",
              "      <th>12314</th>\n",
              "      <td>31-50</td>\n",
              "      <td>Male</td>\n",
              "      <td>Junior high school</td>\n",
              "      <td>5-10yr</td>\n",
              "      <td>NaN</td>\n",
              "      <td>5-10yrs</td>\n",
              "      <td>No defect</td>\n",
              "      <td>Residential areas</td>\n",
              "      <td>One way</td>\n",
              "      <td>Tangent road with flat terrain</td>\n",
              "      <td>...</td>\n",
              "      <td>Going straight</td>\n",
              "      <td>Pedestrian</td>\n",
              "      <td>Male</td>\n",
              "      <td>Under 18</td>\n",
              "      <td>2</td>\n",
              "      <td>Driver</td>\n",
              "      <td>Normal</td>\n",
              "      <td>Crossing from nearside - masked by parked or s...</td>\n",
              "      <td>No distancing</td>\n",
              "      <td>Serious Injury</td>\n",
              "    </tr>\n",
              "    <tr>\n",
              "      <th>12315</th>\n",
              "      <td>18-30</td>\n",
              "      <td>Male</td>\n",
              "      <td>Junior high school</td>\n",
              "      <td>2-5yr</td>\n",
              "      <td>Automobile</td>\n",
              "      <td>NaN</td>\n",
              "      <td>No defect</td>\n",
              "      <td>Industrial areas</td>\n",
              "      <td>Unknown</td>\n",
              "      <td>Tangent road with flat terrain</td>\n",
              "      <td>...</td>\n",
              "      <td>Going straight</td>\n",
              "      <td>Pedestrian</td>\n",
              "      <td>Male</td>\n",
              "      <td>31-50</td>\n",
              "      <td>3</td>\n",
              "      <td>Self-employed</td>\n",
              "      <td>Normal</td>\n",
              "      <td>Crossing from nearside - masked by parked or s...</td>\n",
              "      <td>Moving Backward</td>\n",
              "      <td>Slight Injury</td>\n",
              "    </tr>\n",
              "  </tbody>\n",
              "</table>\n",
              "<p>12316 rows × 28 columns</p>\n",
              "</div>"
            ],
            "text/plain": [
              "      Age_band_of_driver Sex_of_driver   Educational_level Driving_experience   \n",
              "0                  18-30          Male  Junior high school              2-5yr  \\\n",
              "1                  31-50          Male  Junior high school              1-2yr   \n",
              "2                  18-30          Male  Junior high school              1-2yr   \n",
              "3               Under 18          Male  Junior high school              2-5yr   \n",
              "4                  18-30          Male  Junior high school         Above 10yr   \n",
              "...                  ...           ...                 ...                ...   \n",
              "12311              18-30          Male  Junior high school          Below 1yr   \n",
              "12312              18-30          Male  Junior high school          Below 1yr   \n",
              "12313              18-30          Male         High school          Below 1yr   \n",
              "12314              31-50          Male  Junior high school             5-10yr   \n",
              "12315              18-30          Male  Junior high school              2-5yr   \n",
              "\n",
              "           Type_of_vehicle Service_year_of_vehicle Defect_of_vehicle   \n",
              "0                      NaN                     NaN         No defect  \\\n",
              "1      Public (> 45 seats)                   1-2yr         No defect   \n",
              "2        Public (12 seats)                     NaN               NaN   \n",
              "3          Lorry (41?100Q)                 Unknown         No defect   \n",
              "4        Public (12 seats)                 Unknown         No defect   \n",
              "...                    ...                     ...               ...   \n",
              "12311    Public (12 seats)                  2-5yrs         No defect   \n",
              "12312           Automobile                 Unknown         No defect   \n",
              "12313    Public (12 seats)                   1-2yr         No defect   \n",
              "12314                  NaN                 5-10yrs         No defect   \n",
              "12315           Automobile                     NaN         No defect   \n",
              "\n",
              "      Area_accident_occured                                  Lanes_or_Medians   \n",
              "0          Industrial areas                                           Unknown  \\\n",
              "1          Industrial areas                       Double carriageway (median)   \n",
              "2        Recreational areas  Two-way (divided with broken lines road marking)   \n",
              "3              Office areas  Two-way (divided with broken lines road marking)   \n",
              "4                     Other  Two-way (divided with broken lines road marking)   \n",
              "...                     ...                                               ...   \n",
              "12311                 Other                                             other   \n",
              "12312                 Other                                             other   \n",
              "12313      Industrial areas                                             other   \n",
              "12314     Residential areas                                           One way   \n",
              "12315      Industrial areas                                           Unknown   \n",
              "\n",
              "                      Road_allignment  ... Vehicle_movement   Casualty_class   \n",
              "0      Tangent road with flat terrain  ...   Going straight               na  \\\n",
              "1      Tangent road with flat terrain  ...   Going straight               na   \n",
              "2      Tangent road with flat terrain  ...   Going straight  Driver or rider   \n",
              "3      Tangent road with flat terrain  ...   Going straight               na   \n",
              "4      Tangent road with flat terrain  ...   Going straight               na   \n",
              "...                               ...  ...              ...              ...   \n",
              "12311  Tangent road with flat terrain  ...   Going straight       Pedestrian   \n",
              "12312  Tangent road with flat terrain  ...   Going straight       Pedestrian   \n",
              "12313  Tangent road with flat terrain  ...   Going straight       Pedestrian   \n",
              "12314  Tangent road with flat terrain  ...   Going straight       Pedestrian   \n",
              "12315  Tangent road with flat terrain  ...   Going straight       Pedestrian   \n",
              "\n",
              "      Sex_of_casualty Age_band_of_casualty Casualty_severity   \n",
              "0                  na                   na                na  \\\n",
              "1                  na                   na                na   \n",
              "2                Male              Over 51                 3   \n",
              "3                  na                   na                na   \n",
              "4                  na                   na                na   \n",
              "...               ...                  ...               ...   \n",
              "12311          Female                18-30                 3   \n",
              "12312            Male             Under 18                 2   \n",
              "12313          Female                18-30                 3   \n",
              "12314            Male             Under 18                 2   \n",
              "12315            Male                31-50                 3   \n",
              "\n",
              "      Work_of_casuality  Fitness_of_casuality   \n",
              "0                Driver                Normal  \\\n",
              "1                Driver                Normal   \n",
              "2                Driver                Normal   \n",
              "3                Driver                Normal   \n",
              "4                Driver                Normal   \n",
              "...                 ...                   ...   \n",
              "12311            Driver                Normal   \n",
              "12312     Self-employed                Normal   \n",
              "12313            Driver                Normal   \n",
              "12314            Driver                Normal   \n",
              "12315     Self-employed                Normal   \n",
              "\n",
              "                                     Pedestrian_movement   \n",
              "0                                       Not a Pedestrian  \\\n",
              "1                                       Not a Pedestrian   \n",
              "2                                       Not a Pedestrian   \n",
              "3                                       Not a Pedestrian   \n",
              "4                                       Not a Pedestrian   \n",
              "...                                                  ...   \n",
              "12311  In carriageway, statioNot a Pedestrianry - not...   \n",
              "12312                                   Unknown or other   \n",
              "12313  Crossing from nearside - masked by parked or s...   \n",
              "12314  Crossing from nearside - masked by parked or s...   \n",
              "12315  Crossing from nearside - masked by parked or s...   \n",
              "\n",
              "                Cause_of_accident Accident_severity  \n",
              "0      Changing lane to the right     Slight Injury  \n",
              "1                      Overtaking     Slight Injury  \n",
              "2      Changing lane to the right     Slight Injury  \n",
              "3       Changing lane to the left     Slight Injury  \n",
              "4                   No distancing     Slight Injury  \n",
              "...                           ...               ...  \n",
              "12311      No priority to vehicle     Slight Injury  \n",
              "12312  Changing lane to the right     Slight Injury  \n",
              "12313                 Overturning    Serious Injury  \n",
              "12314               No distancing    Serious Injury  \n",
              "12315             Moving Backward     Slight Injury  \n",
              "\n",
              "[12316 rows x 28 columns]"
            ]
          },
          "execution_count": 6,
          "metadata": {},
          "output_type": "execute_result"
        }
      ],
      "source": [
        "df"
      ]
    },
    {
      "cell_type": "code",
      "execution_count": 7,
      "metadata": {},
      "outputs": [
        {
          "data": {
            "text/html": [
              "<div>\n",
              "<style scoped>\n",
              "    .dataframe tbody tr th:only-of-type {\n",
              "        vertical-align: middle;\n",
              "    }\n",
              "\n",
              "    .dataframe tbody tr th {\n",
              "        vertical-align: top;\n",
              "    }\n",
              "\n",
              "    .dataframe thead th {\n",
              "        text-align: right;\n",
              "    }\n",
              "</style>\n",
              "<table border=\"1\" class=\"dataframe\">\n",
              "  <thead>\n",
              "    <tr style=\"text-align: right;\">\n",
              "      <th></th>\n",
              "      <th>Age_band_of_driver</th>\n",
              "      <th>Sex_of_driver</th>\n",
              "      <th>Educational_level</th>\n",
              "      <th>Driving_experience</th>\n",
              "      <th>Type_of_vehicle</th>\n",
              "      <th>Service_year_of_vehicle</th>\n",
              "      <th>Defect_of_vehicle</th>\n",
              "      <th>Area_accident_occured</th>\n",
              "      <th>Lanes_or_Medians</th>\n",
              "      <th>Road_allignment</th>\n",
              "      <th>...</th>\n",
              "      <th>Vehicle_movement</th>\n",
              "      <th>Casualty_class</th>\n",
              "      <th>Sex_of_casualty</th>\n",
              "      <th>Age_band_of_casualty</th>\n",
              "      <th>Casualty_severity</th>\n",
              "      <th>Work_of_casuality</th>\n",
              "      <th>Fitness_of_casuality</th>\n",
              "      <th>Pedestrian_movement</th>\n",
              "      <th>Cause_of_accident</th>\n",
              "      <th>Accident_severity</th>\n",
              "    </tr>\n",
              "  </thead>\n",
              "  <tbody>\n",
              "    <tr>\n",
              "      <th>0</th>\n",
              "      <td>18-30</td>\n",
              "      <td>Male</td>\n",
              "      <td>Junior high school</td>\n",
              "      <td>2-5yr</td>\n",
              "      <td>NaN</td>\n",
              "      <td>NaN</td>\n",
              "      <td>No defect</td>\n",
              "      <td>Industrial areas</td>\n",
              "      <td>Unknown</td>\n",
              "      <td>Tangent road with flat terrain</td>\n",
              "      <td>...</td>\n",
              "      <td>Going straight</td>\n",
              "      <td>na</td>\n",
              "      <td>na</td>\n",
              "      <td>na</td>\n",
              "      <td>na</td>\n",
              "      <td>Driver</td>\n",
              "      <td>Normal</td>\n",
              "      <td>Not a Pedestrian</td>\n",
              "      <td>Changing lane to the right</td>\n",
              "      <td>Slight Injury</td>\n",
              "    </tr>\n",
              "    <tr>\n",
              "      <th>1</th>\n",
              "      <td>31-50</td>\n",
              "      <td>Male</td>\n",
              "      <td>Junior high school</td>\n",
              "      <td>1-2yr</td>\n",
              "      <td>Public (&gt; 45 seats)</td>\n",
              "      <td>1-2yr</td>\n",
              "      <td>No defect</td>\n",
              "      <td>Industrial areas</td>\n",
              "      <td>Double carriageway (median)</td>\n",
              "      <td>Tangent road with flat terrain</td>\n",
              "      <td>...</td>\n",
              "      <td>Going straight</td>\n",
              "      <td>na</td>\n",
              "      <td>na</td>\n",
              "      <td>na</td>\n",
              "      <td>na</td>\n",
              "      <td>Driver</td>\n",
              "      <td>Normal</td>\n",
              "      <td>Not a Pedestrian</td>\n",
              "      <td>Overtaking</td>\n",
              "      <td>Slight Injury</td>\n",
              "    </tr>\n",
              "    <tr>\n",
              "      <th>2</th>\n",
              "      <td>18-30</td>\n",
              "      <td>Male</td>\n",
              "      <td>Junior high school</td>\n",
              "      <td>1-2yr</td>\n",
              "      <td>Public (12 seats)</td>\n",
              "      <td>NaN</td>\n",
              "      <td>NaN</td>\n",
              "      <td>Recreational areas</td>\n",
              "      <td>Two-way (divided with broken lines road marking)</td>\n",
              "      <td>Tangent road with flat terrain</td>\n",
              "      <td>...</td>\n",
              "      <td>Going straight</td>\n",
              "      <td>Driver or rider</td>\n",
              "      <td>Male</td>\n",
              "      <td>Over 51</td>\n",
              "      <td>3</td>\n",
              "      <td>Driver</td>\n",
              "      <td>Normal</td>\n",
              "      <td>Not a Pedestrian</td>\n",
              "      <td>Changing lane to the right</td>\n",
              "      <td>Slight Injury</td>\n",
              "    </tr>\n",
              "    <tr>\n",
              "      <th>3</th>\n",
              "      <td>Under 18</td>\n",
              "      <td>Male</td>\n",
              "      <td>Junior high school</td>\n",
              "      <td>2-5yr</td>\n",
              "      <td>Lorry (41?100Q)</td>\n",
              "      <td>Unknown</td>\n",
              "      <td>No defect</td>\n",
              "      <td>Office areas</td>\n",
              "      <td>Two-way (divided with broken lines road marking)</td>\n",
              "      <td>Tangent road with flat terrain</td>\n",
              "      <td>...</td>\n",
              "      <td>Going straight</td>\n",
              "      <td>na</td>\n",
              "      <td>na</td>\n",
              "      <td>na</td>\n",
              "      <td>na</td>\n",
              "      <td>Driver</td>\n",
              "      <td>Normal</td>\n",
              "      <td>Not a Pedestrian</td>\n",
              "      <td>Changing lane to the left</td>\n",
              "      <td>Slight Injury</td>\n",
              "    </tr>\n",
              "    <tr>\n",
              "      <th>4</th>\n",
              "      <td>18-30</td>\n",
              "      <td>Male</td>\n",
              "      <td>Junior high school</td>\n",
              "      <td>Above 10yr</td>\n",
              "      <td>Public (12 seats)</td>\n",
              "      <td>Unknown</td>\n",
              "      <td>No defect</td>\n",
              "      <td>Other</td>\n",
              "      <td>Two-way (divided with broken lines road marking)</td>\n",
              "      <td>Tangent road with flat terrain</td>\n",
              "      <td>...</td>\n",
              "      <td>Going straight</td>\n",
              "      <td>na</td>\n",
              "      <td>na</td>\n",
              "      <td>na</td>\n",
              "      <td>na</td>\n",
              "      <td>Driver</td>\n",
              "      <td>Normal</td>\n",
              "      <td>Not a Pedestrian</td>\n",
              "      <td>No distancing</td>\n",
              "      <td>Slight Injury</td>\n",
              "    </tr>\n",
              "  </tbody>\n",
              "</table>\n",
              "<p>5 rows × 28 columns</p>\n",
              "</div>"
            ],
            "text/plain": [
              "  Age_band_of_driver Sex_of_driver   Educational_level Driving_experience   \n",
              "0              18-30          Male  Junior high school              2-5yr  \\\n",
              "1              31-50          Male  Junior high school              1-2yr   \n",
              "2              18-30          Male  Junior high school              1-2yr   \n",
              "3           Under 18          Male  Junior high school              2-5yr   \n",
              "4              18-30          Male  Junior high school         Above 10yr   \n",
              "\n",
              "       Type_of_vehicle Service_year_of_vehicle Defect_of_vehicle   \n",
              "0                  NaN                     NaN         No defect  \\\n",
              "1  Public (> 45 seats)                   1-2yr         No defect   \n",
              "2    Public (12 seats)                     NaN               NaN   \n",
              "3      Lorry (41?100Q)                 Unknown         No defect   \n",
              "4    Public (12 seats)                 Unknown         No defect   \n",
              "\n",
              "  Area_accident_occured                                  Lanes_or_Medians   \n",
              "0      Industrial areas                                           Unknown  \\\n",
              "1      Industrial areas                       Double carriageway (median)   \n",
              "2    Recreational areas  Two-way (divided with broken lines road marking)   \n",
              "3          Office areas  Two-way (divided with broken lines road marking)   \n",
              "4                 Other  Two-way (divided with broken lines road marking)   \n",
              "\n",
              "                  Road_allignment  ... Vehicle_movement   Casualty_class   \n",
              "0  Tangent road with flat terrain  ...   Going straight               na  \\\n",
              "1  Tangent road with flat terrain  ...   Going straight               na   \n",
              "2  Tangent road with flat terrain  ...   Going straight  Driver or rider   \n",
              "3  Tangent road with flat terrain  ...   Going straight               na   \n",
              "4  Tangent road with flat terrain  ...   Going straight               na   \n",
              "\n",
              "  Sex_of_casualty Age_band_of_casualty Casualty_severity Work_of_casuality   \n",
              "0              na                   na                na            Driver  \\\n",
              "1              na                   na                na            Driver   \n",
              "2            Male              Over 51                 3            Driver   \n",
              "3              na                   na                na            Driver   \n",
              "4              na                   na                na            Driver   \n",
              "\n",
              "   Fitness_of_casuality  Pedestrian_movement           Cause_of_accident   \n",
              "0                Normal     Not a Pedestrian  Changing lane to the right  \\\n",
              "1                Normal     Not a Pedestrian                  Overtaking   \n",
              "2                Normal     Not a Pedestrian  Changing lane to the right   \n",
              "3                Normal     Not a Pedestrian   Changing lane to the left   \n",
              "4                Normal     Not a Pedestrian               No distancing   \n",
              "\n",
              "  Accident_severity  \n",
              "0     Slight Injury  \n",
              "1     Slight Injury  \n",
              "2     Slight Injury  \n",
              "3     Slight Injury  \n",
              "4     Slight Injury  \n",
              "\n",
              "[5 rows x 28 columns]"
            ]
          },
          "execution_count": 7,
          "metadata": {},
          "output_type": "execute_result"
        }
      ],
      "source": [
        "df.head()"
      ]
    },
    {
      "cell_type": "code",
      "execution_count": 8,
      "metadata": {},
      "outputs": [
        {
          "name": "stdout",
          "output_type": "stream",
          "text": [
            "<class 'pandas.core.frame.DataFrame'>\n",
            "RangeIndex: 12316 entries, 0 to 12315\n",
            "Data columns (total 28 columns):\n",
            " #   Column                       Non-Null Count  Dtype \n",
            "---  ------                       --------------  ----- \n",
            " 0   Age_band_of_driver           12316 non-null  object\n",
            " 1   Sex_of_driver                12316 non-null  object\n",
            " 2   Educational_level            11575 non-null  object\n",
            " 3   Driving_experience           11487 non-null  object\n",
            " 4   Type_of_vehicle              11366 non-null  object\n",
            " 5   Service_year_of_vehicle      8388 non-null   object\n",
            " 6   Defect_of_vehicle            7889 non-null   object\n",
            " 7   Area_accident_occured        12077 non-null  object\n",
            " 8   Lanes_or_Medians             11931 non-null  object\n",
            " 9   Road_allignment              12174 non-null  object\n",
            " 10  Types_of_Junction            11429 non-null  object\n",
            " 11  Road_surface_type            12144 non-null  object\n",
            " 12  Road_surface_conditions      12316 non-null  object\n",
            " 13  Light_conditions             12316 non-null  object\n",
            " 14  Weather_conditions           12316 non-null  object\n",
            " 15  Type_of_collision            12161 non-null  object\n",
            " 16  Number_of_vehicles_involved  12316 non-null  int64 \n",
            " 17  Number_of_casualties         12316 non-null  int64 \n",
            " 18  Vehicle_movement             12008 non-null  object\n",
            " 19  Casualty_class               12316 non-null  object\n",
            " 20  Sex_of_casualty              12316 non-null  object\n",
            " 21  Age_band_of_casualty         12316 non-null  object\n",
            " 22  Casualty_severity            12316 non-null  object\n",
            " 23  Work_of_casuality            9118 non-null   object\n",
            " 24  Fitness_of_casuality         9681 non-null   object\n",
            " 25  Pedestrian_movement          12316 non-null  object\n",
            " 26  Cause_of_accident            12316 non-null  object\n",
            " 27  Accident_severity            12316 non-null  object\n",
            "dtypes: int64(2), object(26)\n",
            "memory usage: 2.6+ MB\n"
          ]
        }
      ],
      "source": [
        "df.info()"
      ]
    },
    {
      "cell_type": "code",
      "execution_count": 9,
      "metadata": {},
      "outputs": [
        {
          "data": {
            "text/plain": [
              "Age_band_of_driver                0\n",
              "Sex_of_driver                     0\n",
              "Educational_level               741\n",
              "Driving_experience              829\n",
              "Type_of_vehicle                 950\n",
              "Service_year_of_vehicle        3928\n",
              "Defect_of_vehicle              4427\n",
              "Area_accident_occured           239\n",
              "Lanes_or_Medians                385\n",
              "Road_allignment                 142\n",
              "Types_of_Junction               887\n",
              "Road_surface_type               172\n",
              "Road_surface_conditions           0\n",
              "Light_conditions                  0\n",
              "Weather_conditions                0\n",
              "Type_of_collision               155\n",
              "Number_of_vehicles_involved       0\n",
              "Number_of_casualties              0\n",
              "Vehicle_movement                308\n",
              "Casualty_class                    0\n",
              "Sex_of_casualty                   0\n",
              "Age_band_of_casualty              0\n",
              "Casualty_severity                 0\n",
              "Work_of_casuality              3198\n",
              "Fitness_of_casuality           2635\n",
              "Pedestrian_movement               0\n",
              "Cause_of_accident                 0\n",
              "Accident_severity                 0\n",
              "dtype: int64"
            ]
          },
          "execution_count": 9,
          "metadata": {},
          "output_type": "execute_result"
        }
      ],
      "source": [
        "df.isnull().sum()"
      ]
    },
    {
      "cell_type": "code",
      "execution_count": 10,
      "metadata": {},
      "outputs": [
        {
          "name": "stdout",
          "output_type": "stream",
          "text": [
            "Educational_level\n",
            "Junior high school    7619\n",
            "Elementary school     2163\n",
            "High school           1110\n",
            "Above high school      362\n",
            "Writing & reading      176\n",
            "Unknown                100\n",
            "Illiterate              45\n",
            "Name: count, dtype: int64\n"
          ]
        }
      ],
      "source": [
        "print(df['Educational_level'].value_counts())"
      ]
    },
    {
      "cell_type": "code",
      "execution_count": 11,
      "metadata": {},
      "outputs": [
        {
          "data": {
            "text/plain": [
              "<Axes: xlabel='Educational_level'>"
            ]
          },
          "execution_count": 11,
          "metadata": {},
          "output_type": "execute_result"
        },
        {
          "data": {
            "image/png": "[encoded data removed]",
            "text/plain": [
              "<Figure size 640x480 with 1 Axes>"
            ]
          },
          "metadata": {},
          "output_type": "display_data"
        }
      ],
      "source": [
        "df['Educational_level'].value_counts().plot(kind='bar')"
      ]
    },
    {
      "cell_type": "code",
      "execution_count": 12,
      "metadata": {},
      "outputs": [
        {
          "name": "stdout",
          "output_type": "stream",
          "text": [
            "Driving_experience\n",
            "5-10yr        3363\n",
            "2-5yr         2613\n",
            "Above 10yr    2262\n",
            "1-2yr         1756\n",
            "Below 1yr     1342\n",
            "No Licence     118\n",
            "unknown         33\n",
            "Name: count, dtype: int64\n"
          ]
        }
      ],
      "source": [
        "print(df[\"Driving_experience\"].value_counts())"
      ]
    },
    {
      "cell_type": "code",
      "execution_count": 13,
      "metadata": {},
      "outputs": [
        {
          "data": {
            "text/plain": [
              "<Axes: xlabel='Driving_experience'>"
            ]
          },
          "execution_count": 13,
          "metadata": {},
          "output_type": "execute_result"
        },
        {
          "data": {
            "image/png": "[encoded data removed]",
            "text/plain": [
              "<Figure size 640x480 with 1 Axes>"
            ]
          },
          "metadata": {},
          "output_type": "display_data"
        }
      ],
      "source": [
        "df[\"Driving_experience\"].value_counts().plot(kind=\"bar\")"
      ]
    },
    {
      "attachments": {},
      "cell_type": "markdown",
      "metadata": {},
      "source": [
        "### Data Preprocessing"
      ]
    },
    {
      "cell_type": "code",
      "execution_count": 5,
      "metadata": {},
      "outputs": [],
      "source": [
        "from matplotlib import pyplot as plt"
      ]
    },
    {
      "cell_type": "code",
      "execution_count": 4,
      "metadata": {},
      "outputs": [
        {
          "data": {
            "text/plain": [
              "Age_band_of_driver                0\n",
              "Sex_of_driver                     0\n",
              "Educational_level               741\n",
              "Driving_experience              829\n",
              "Type_of_vehicle                 950\n",
              "Service_year_of_vehicle        3928\n",
              "Defect_of_vehicle              4427\n",
              "Area_accident_occured           239\n",
              "Lanes_or_Medians                385\n",
              "Road_allignment                 142\n",
              "Types_of_Junction               887\n",
              "Road_surface_type               172\n",
              "Road_surface_conditions           0\n",
              "Light_conditions                  0\n",
              "Weather_conditions                0\n",
              "Type_of_collision               155\n",
              "Number_of_vehicles_involved       0\n",
              "Number_of_casualties              0\n",
              "Vehicle_movement                308\n",
              "Casualty_class                    0\n",
              "Sex_of_casualty                   0\n",
              "Age_band_of_casualty              0\n",
              "Casualty_severity                 0\n",
              "Work_of_casuality              3198\n",
              "Fitness_of_casuality           2635\n",
              "Pedestrian_movement               0\n",
              "Cause_of_accident                 0\n",
              "Accident_severity                 0\n",
              "dtype: int64"
            ]
          },
          "execution_count": 4,
          "metadata": {},
          "output_type": "execute_result"
        }
      ],
      "source": [
        "df.isnull().sum()"
      ]
    },
    {
      "cell_type": "code",
      "execution_count": 6,
      "metadata": {},
      "outputs": [
        {
          "data": {
            "image/png": "[encoded data removed]",
            "text/plain": [
              "<Figure size 3000x500 with 6 Axes>"
            ]
          },
          "metadata": {},
          "output_type": "display_data"
        }
      ],
      "source": [
        "df.hist(layout=(1,6), figsize=(30, 5))\n",
        "plt.show()"
      ]
    },
    {
      "cell_type": "code",
      "execution_count": 7,
      "metadata": {},
      "outputs": [
        {
          "data": {
            "text/plain": [
              "Number_of_casualties\n",
              "1    8397\n",
              "2    2290\n",
              "3     909\n",
              "4     394\n",
              "5     207\n",
              "6      89\n",
              "7      22\n",
              "8       8\n",
              "Name: count, dtype: int64"
            ]
          },
          "execution_count": 7,
          "metadata": {},
          "output_type": "execute_result"
        }
      ],
      "source": [
        "df[\"Number_of_casualties\"].value_counts()"
      ]
    },
    {
      "cell_type": "code",
      "execution_count": 8,
      "metadata": {},
      "outputs": [
        {
          "data": {
            "text/plain": [
              "<Figure size 1000x700 with 0 Axes>"
            ]
          },
          "metadata": {},
          "output_type": "display_data"
        },
        {
          "data": {
            "image/png": "[encoded data removed]",
            "text/plain": [
              "<Figure size 500x500 with 1 Axes>"
            ]
          },
          "metadata": {},
          "output_type": "display_data"
        }
      ],
      "source": [
        "import seaborn as sns\n",
        "\n",
        "plt.figure(figsize=(10,7))\n",
        "sns.catplot(data=df, y='Number_of_vehicles_involved', x='Number_of_casualties')\n",
        "plt.show()"
      ]
    },
    {
      "cell_type": "code",
      "execution_count": 10,
      "metadata": {},
      "outputs": [
        {
          "data": {
            "image/png": "[encoded data removed]",
            "text/plain": [
              "<Figure size 500x500 with 1 Axes>"
            ]
          },
          "metadata": {},
          "output_type": "display_data"
        }
      ],
      "source": [
        "sns.catplot(data=df, y='Number_of_casualties')\n",
        "plt.show()"
      ]
    },
    {
      "cell_type": "code",
      "execution_count": 13,
      "metadata": {},
      "outputs": [
        {
          "data": {
            "image/png": "[encoded data removed]",
            "text/plain": [
              "<Figure size 500x500 with 1 Axes>"
            ]
          },
          "metadata": {},
          "output_type": "display_data"
        }
      ],
      "source": [
        "sns.catplot(data=df, y=\"Number_of_vehicles_involved\")\n",
        "plt.show()"
      ]
    },
    {
      "cell_type": "code",
      "execution_count": 14,
      "metadata": {},
      "outputs": [
        {
          "data": {
            "text/plain": [
              "0        2\n",
              "1        2\n",
              "2        2\n",
              "3        2\n",
              "4        2\n",
              "        ..\n",
              "12311    2\n",
              "12312    2\n",
              "12313    2\n",
              "12314    2\n",
              "12315    2\n",
              "Name: Number_of_vehicles_involved, Length: 12316, dtype: int64"
            ]
          },
          "execution_count": 14,
          "metadata": {},
          "output_type": "execute_result"
        }
      ],
      "source": [
        "df[\"Number_of_vehicles_involved\"]"
      ]
    },
    {
      "cell_type": "code",
      "execution_count": 16,
      "metadata": {},
      "outputs": [
        {
          "data": {
            "image/png": "[encoded data removed]",
            "text/plain": [
              "<Figure size 500x500 with 1 Axes>"
            ]
          },
          "metadata": {},
          "output_type": "display_data"
        }
      ],
      "source": [
        "sns.catplot(x=df[\"Accident_severity\"], y=df[\"Number_of_casualties\"])\n",
        "plt.show()"
      ]
    },
    {
      "cell_type": "code",
      "execution_count": 18,
      "metadata": {},
      "outputs": [
        {
          "data": {
            "image/png": "[encoded data removed]",
            "text/plain": [
              "<Figure size 500x500 with 6 Axes>"
            ]
          },
          "metadata": {},
          "output_type": "display_data"
        }
      ],
      "source": [
        "sns.pairplot(df[[\"Number_of_vehicles_involved\", 'Number_of_casualties']])\n",
        "plt.show()"
      ]
    }
  ],
  "metadata": {
    "colab": {
      "include_colab_link": true,
      "provenance": []
    },
    "kernelspec": {
      "display_name": "Python 3",
      "language": "python",
      "name": "python3"
    },
    "language_info": {
      "codemirror_mode": {
        "name": "ipython",
        "version": 3
      },
      "file_extension": ".py",
      "mimetype": "text/x-python",
      "name": "python",
      "nbconvert_exporter": "python",
      "pygments_lexer": "ipython3",
      "version": "3.11.3"
    },
    "orig_nbformat": 4,
    "vscode": {
      "interpreter": {
        "hash": "7ffa536757220272d2e66b9aeef5607cabc9cadaf94654072eb109d9ad2374b6"
      }
    }
  },
  "nbformat": 4,
  "nbformat_minor": 0
}
