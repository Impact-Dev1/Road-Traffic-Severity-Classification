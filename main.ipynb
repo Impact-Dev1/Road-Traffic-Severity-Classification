{
 "cells": [
  {
   "cell_type": "code",
   "execution_count": null,
   "metadata": {},
   "outputs": [],
   "source": []
  }
 ],
 "metadata": {
  "kernelspec": {
   "display_name": "Python 3",
   "language": "python",
   "name": "python3"
  },
  "language_info": {
   "name": "python",
   "version": "3.11.2"
  },
  "orig_nbformat": 4,
  "vscode": {
   "interpreter": {
    "hash": "7ffa536757220272d2e66b9aeef5607cabc9cadaf94654072eb109d9ad2374b6"
   }
  }
 },
 "nbformat": 4,
 "nbformat_minor": 2
}
