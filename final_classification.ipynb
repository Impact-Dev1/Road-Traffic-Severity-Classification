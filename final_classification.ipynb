{
 "cells": [
  {
   "cell_type": "code",
   "execution_count": 1,
   "metadata": {},
   "outputs": [],
   "source": [
    "import pandas as pd\n",
    "import seaborn as sns\n",
    "import matplotlib.pyplot as plt"
   ]
  },
  {
   "cell_type": "code",
   "execution_count": 2,
   "metadata": {},
   "outputs": [],
   "source": [
    "import warnings\n",
    "warnings.filterwarnings(\"ignore\")"
   ]
  },
  {
   "cell_type": "code",
   "execution_count": 3,
   "metadata": {},
   "outputs": [],
   "source": [
    "df = pd.read_csv(\"./data/dataset.csv\")"
   ]
  },
  {
   "cell_type": "code",
   "execution_count": 4,
   "metadata": {},
   "outputs": [
    {
     "data": {
      "text/html": [
       "<div>\n",
       "<style scoped>\n",
       "    .dataframe tbody tr th:only-of-type {\n",
       "        vertical-align: middle;\n",
       "    }\n",
       "\n",
       "    .dataframe tbody tr th {\n",
       "        vertical-align: top;\n",
       "    }\n",
       "\n",
       "    .dataframe thead th {\n",
       "        text-align: right;\n",
       "    }\n",
       "</style>\n",
       "<table border=\"1\" class=\"dataframe\">\n",
       "  <thead>\n",
       "    <tr style=\"text-align: right;\">\n",
       "      <th></th>\n",
       "      <th>Time</th>\n",
       "      <th>Day_of_week</th>\n",
       "      <th>Age_band_of_driver</th>\n",
       "      <th>Sex_of_driver</th>\n",
       "      <th>Educational_level</th>\n",
       "      <th>Vehicle_driver_relation</th>\n",
       "      <th>Driving_experience</th>\n",
       "      <th>Type_of_vehicle</th>\n",
       "      <th>Owner_of_vehicle</th>\n",
       "      <th>Service_year_of_vehicle</th>\n",
       "      <th>...</th>\n",
       "      <th>Vehicle_movement</th>\n",
       "      <th>Casualty_class</th>\n",
       "      <th>Sex_of_casualty</th>\n",
       "      <th>Age_band_of_casualty</th>\n",
       "      <th>Casualty_severity</th>\n",
       "      <th>Work_of_casuality</th>\n",
       "      <th>Fitness_of_casuality</th>\n",
       "      <th>Pedestrian_movement</th>\n",
       "      <th>Cause_of_accident</th>\n",
       "      <th>Accident_severity</th>\n",
       "    </tr>\n",
       "  </thead>\n",
       "  <tbody>\n",
       "    <tr>\n",
       "      <th>0</th>\n",
       "      <td>17:02:00</td>\n",
       "      <td>Monday</td>\n",
       "      <td>18-30</td>\n",
       "      <td>Male</td>\n",
       "      <td>Above high school</td>\n",
       "      <td>Employee</td>\n",
       "      <td>1-2yr</td>\n",
       "      <td>Automobile</td>\n",
       "      <td>Owner</td>\n",
       "      <td>Above 10yr</td>\n",
       "      <td>...</td>\n",
       "      <td>Going straight</td>\n",
       "      <td>na</td>\n",
       "      <td>na</td>\n",
       "      <td>na</td>\n",
       "      <td>na</td>\n",
       "      <td>NaN</td>\n",
       "      <td>NaN</td>\n",
       "      <td>Not a Pedestrian</td>\n",
       "      <td>Moving Backward</td>\n",
       "      <td>Slight Injury</td>\n",
       "    </tr>\n",
       "    <tr>\n",
       "      <th>1</th>\n",
       "      <td>17:02:00</td>\n",
       "      <td>Monday</td>\n",
       "      <td>31-50</td>\n",
       "      <td>Male</td>\n",
       "      <td>Junior high school</td>\n",
       "      <td>Employee</td>\n",
       "      <td>Above 10yr</td>\n",
       "      <td>Public (&gt; 45 seats)</td>\n",
       "      <td>Owner</td>\n",
       "      <td>5-10yrs</td>\n",
       "      <td>...</td>\n",
       "      <td>Going straight</td>\n",
       "      <td>na</td>\n",
       "      <td>na</td>\n",
       "      <td>na</td>\n",
       "      <td>na</td>\n",
       "      <td>NaN</td>\n",
       "      <td>NaN</td>\n",
       "      <td>Not a Pedestrian</td>\n",
       "      <td>Overtaking</td>\n",
       "      <td>Slight Injury</td>\n",
       "    </tr>\n",
       "    <tr>\n",
       "      <th>2</th>\n",
       "      <td>17:02:00</td>\n",
       "      <td>Monday</td>\n",
       "      <td>18-30</td>\n",
       "      <td>Male</td>\n",
       "      <td>Junior high school</td>\n",
       "      <td>Employee</td>\n",
       "      <td>1-2yr</td>\n",
       "      <td>Lorry (41?100Q)</td>\n",
       "      <td>Owner</td>\n",
       "      <td>NaN</td>\n",
       "      <td>...</td>\n",
       "      <td>Going straight</td>\n",
       "      <td>Driver or rider</td>\n",
       "      <td>Male</td>\n",
       "      <td>31-50</td>\n",
       "      <td>3</td>\n",
       "      <td>Driver</td>\n",
       "      <td>NaN</td>\n",
       "      <td>Not a Pedestrian</td>\n",
       "      <td>Changing lane to the left</td>\n",
       "      <td>Serious Injury</td>\n",
       "    </tr>\n",
       "    <tr>\n",
       "      <th>3</th>\n",
       "      <td>1:06:00</td>\n",
       "      <td>Sunday</td>\n",
       "      <td>18-30</td>\n",
       "      <td>Male</td>\n",
       "      <td>Junior high school</td>\n",
       "      <td>Employee</td>\n",
       "      <td>5-10yr</td>\n",
       "      <td>Public (&gt; 45 seats)</td>\n",
       "      <td>Governmental</td>\n",
       "      <td>NaN</td>\n",
       "      <td>...</td>\n",
       "      <td>Going straight</td>\n",
       "      <td>Pedestrian</td>\n",
       "      <td>Female</td>\n",
       "      <td>18-30</td>\n",
       "      <td>3</td>\n",
       "      <td>Driver</td>\n",
       "      <td>Normal</td>\n",
       "      <td>Not a Pedestrian</td>\n",
       "      <td>Changing lane to the right</td>\n",
       "      <td>Slight Injury</td>\n",
       "    </tr>\n",
       "    <tr>\n",
       "      <th>4</th>\n",
       "      <td>1:06:00</td>\n",
       "      <td>Sunday</td>\n",
       "      <td>18-30</td>\n",
       "      <td>Male</td>\n",
       "      <td>Junior high school</td>\n",
       "      <td>Employee</td>\n",
       "      <td>2-5yr</td>\n",
       "      <td>NaN</td>\n",
       "      <td>Owner</td>\n",
       "      <td>5-10yrs</td>\n",
       "      <td>...</td>\n",
       "      <td>Going straight</td>\n",
       "      <td>na</td>\n",
       "      <td>na</td>\n",
       "      <td>na</td>\n",
       "      <td>na</td>\n",
       "      <td>NaN</td>\n",
       "      <td>NaN</td>\n",
       "      <td>Not a Pedestrian</td>\n",
       "      <td>Overtaking</td>\n",
       "      <td>Slight Injury</td>\n",
       "    </tr>\n",
       "  </tbody>\n",
       "</table>\n",
       "<p>5 rows × 32 columns</p>\n",
       "</div>"
      ],
      "text/plain": [
       "       Time Day_of_week Age_band_of_driver Sex_of_driver   Educational_level  \\\n",
       "0  17:02:00      Monday              18-30          Male   Above high school   \n",
       "1  17:02:00      Monday              31-50          Male  Junior high school   \n",
       "2  17:02:00      Monday              18-30          Male  Junior high school   \n",
       "3   1:06:00      Sunday              18-30          Male  Junior high school   \n",
       "4   1:06:00      Sunday              18-30          Male  Junior high school   \n",
       "\n",
       "  Vehicle_driver_relation Driving_experience      Type_of_vehicle  \\\n",
       "0                Employee              1-2yr           Automobile   \n",
       "1                Employee         Above 10yr  Public (> 45 seats)   \n",
       "2                Employee              1-2yr      Lorry (41?100Q)   \n",
       "3                Employee             5-10yr  Public (> 45 seats)   \n",
       "4                Employee              2-5yr                  NaN   \n",
       "\n",
       "  Owner_of_vehicle Service_year_of_vehicle  ... Vehicle_movement  \\\n",
       "0            Owner              Above 10yr  ...   Going straight   \n",
       "1            Owner                 5-10yrs  ...   Going straight   \n",
       "2            Owner                     NaN  ...   Going straight   \n",
       "3     Governmental                     NaN  ...   Going straight   \n",
       "4            Owner                 5-10yrs  ...   Going straight   \n",
       "\n",
       "    Casualty_class Sex_of_casualty Age_band_of_casualty Casualty_severity  \\\n",
       "0               na              na                   na                na   \n",
       "1               na              na                   na                na   \n",
       "2  Driver or rider            Male                31-50                 3   \n",
       "3       Pedestrian          Female                18-30                 3   \n",
       "4               na              na                   na                na   \n",
       "\n",
       "  Work_of_casuality Fitness_of_casuality Pedestrian_movement  \\\n",
       "0               NaN                  NaN    Not a Pedestrian   \n",
       "1               NaN                  NaN    Not a Pedestrian   \n",
       "2            Driver                  NaN    Not a Pedestrian   \n",
       "3            Driver               Normal    Not a Pedestrian   \n",
       "4               NaN                  NaN    Not a Pedestrian   \n",
       "\n",
       "            Cause_of_accident Accident_severity  \n",
       "0             Moving Backward     Slight Injury  \n",
       "1                  Overtaking     Slight Injury  \n",
       "2   Changing lane to the left    Serious Injury  \n",
       "3  Changing lane to the right     Slight Injury  \n",
       "4                  Overtaking     Slight Injury  \n",
       "\n",
       "[5 rows x 32 columns]"
      ]
     },
     "execution_count": 4,
     "metadata": {},
     "output_type": "execute_result"
    }
   ],
   "source": [
    "df.head()"
   ]
  },
  {
   "cell_type": "code",
   "execution_count": 5,
   "metadata": {},
   "outputs": [
    {
     "data": {
      "text/plain": [
       "(12316, 32)"
      ]
     },
     "execution_count": 5,
     "metadata": {},
     "output_type": "execute_result"
    }
   ],
   "source": [
    "df.shape"
   ]
  },
  {
   "cell_type": "code",
   "execution_count": 6,
   "metadata": {},
   "outputs": [
    {
     "data": {
      "text/html": [
       "<div>\n",
       "<style scoped>\n",
       "    .dataframe tbody tr th:only-of-type {\n",
       "        vertical-align: middle;\n",
       "    }\n",
       "\n",
       "    .dataframe tbody tr th {\n",
       "        vertical-align: top;\n",
       "    }\n",
       "\n",
       "    .dataframe thead th {\n",
       "        text-align: right;\n",
       "    }\n",
       "</style>\n",
       "<table border=\"1\" class=\"dataframe\">\n",
       "  <thead>\n",
       "    <tr style=\"text-align: right;\">\n",
       "      <th></th>\n",
       "      <th>Number_of_vehicles_involved</th>\n",
       "      <th>Number_of_casualties</th>\n",
       "    </tr>\n",
       "  </thead>\n",
       "  <tbody>\n",
       "    <tr>\n",
       "      <th>count</th>\n",
       "      <td>12316.000000</td>\n",
       "      <td>12316.000000</td>\n",
       "    </tr>\n",
       "    <tr>\n",
       "      <th>mean</th>\n",
       "      <td>2.040679</td>\n",
       "      <td>1.548149</td>\n",
       "    </tr>\n",
       "    <tr>\n",
       "      <th>std</th>\n",
       "      <td>0.688790</td>\n",
       "      <td>1.007179</td>\n",
       "    </tr>\n",
       "    <tr>\n",
       "      <th>min</th>\n",
       "      <td>1.000000</td>\n",
       "      <td>1.000000</td>\n",
       "    </tr>\n",
       "    <tr>\n",
       "      <th>25%</th>\n",
       "      <td>2.000000</td>\n",
       "      <td>1.000000</td>\n",
       "    </tr>\n",
       "    <tr>\n",
       "      <th>50%</th>\n",
       "      <td>2.000000</td>\n",
       "      <td>1.000000</td>\n",
       "    </tr>\n",
       "    <tr>\n",
       "      <th>75%</th>\n",
       "      <td>2.000000</td>\n",
       "      <td>2.000000</td>\n",
       "    </tr>\n",
       "    <tr>\n",
       "      <th>max</th>\n",
       "      <td>7.000000</td>\n",
       "      <td>8.000000</td>\n",
       "    </tr>\n",
       "  </tbody>\n",
       "</table>\n",
       "</div>"
      ],
      "text/plain": [
       "       Number_of_vehicles_involved  Number_of_casualties\n",
       "count                 12316.000000          12316.000000\n",
       "mean                      2.040679              1.548149\n",
       "std                       0.688790              1.007179\n",
       "min                       1.000000              1.000000\n",
       "25%                       2.000000              1.000000\n",
       "50%                       2.000000              1.000000\n",
       "75%                       2.000000              2.000000\n",
       "max                       7.000000              8.000000"
      ]
     },
     "execution_count": 6,
     "metadata": {},
     "output_type": "execute_result"
    }
   ],
   "source": [
    "df.describe() # output: numerical_values"
   ]
  },
  {
   "cell_type": "code",
   "execution_count": 7,
   "metadata": {},
   "outputs": [
    {
     "name": "stdout",
     "output_type": "stream",
     "text": [
      "<class 'pandas.core.frame.DataFrame'>\n",
      "RangeIndex: 12316 entries, 0 to 12315\n",
      "Data columns (total 32 columns):\n",
      " #   Column                       Non-Null Count  Dtype \n",
      "---  ------                       --------------  ----- \n",
      " 0   Time                         12316 non-null  object\n",
      " 1   Day_of_week                  12316 non-null  object\n",
      " 2   Age_band_of_driver           12316 non-null  object\n",
      " 3   Sex_of_driver                12316 non-null  object\n",
      " 4   Educational_level            11575 non-null  object\n",
      " 5   Vehicle_driver_relation      11737 non-null  object\n",
      " 6   Driving_experience           11487 non-null  object\n",
      " 7   Type_of_vehicle              11366 non-null  object\n",
      " 8   Owner_of_vehicle             11834 non-null  object\n",
      " 9   Service_year_of_vehicle      8388 non-null   object\n",
      " 10  Defect_of_vehicle            7889 non-null   object\n",
      " 11  Area_accident_occured        12077 non-null  object\n",
      " 12  Lanes_or_Medians             11931 non-null  object\n",
      " 13  Road_allignment              12174 non-null  object\n",
      " 14  Types_of_Junction            11429 non-null  object\n",
      " 15  Road_surface_type            12144 non-null  object\n",
      " 16  Road_surface_conditions      12316 non-null  object\n",
      " 17  Light_conditions             12316 non-null  object\n",
      " 18  Weather_conditions           12316 non-null  object\n",
      " 19  Type_of_collision            12161 non-null  object\n",
      " 20  Number_of_vehicles_involved  12316 non-null  int64 \n",
      " 21  Number_of_casualties         12316 non-null  int64 \n",
      " 22  Vehicle_movement             12008 non-null  object\n",
      " 23  Casualty_class               12316 non-null  object\n",
      " 24  Sex_of_casualty              12316 non-null  object\n",
      " 25  Age_band_of_casualty         12316 non-null  object\n",
      " 26  Casualty_severity            12316 non-null  object\n",
      " 27  Work_of_casuality            9118 non-null   object\n",
      " 28  Fitness_of_casuality         9681 non-null   object\n",
      " 29  Pedestrian_movement          12316 non-null  object\n",
      " 30  Cause_of_accident            12316 non-null  object\n",
      " 31  Accident_severity            12316 non-null  object\n",
      "dtypes: int64(2), object(30)\n",
      "memory usage: 3.0+ MB\n"
     ]
    }
   ],
   "source": [
    "# check for count of missing values in the dataset\n",
    "df.info()"
   ]
  },
  {
   "cell_type": "code",
   "execution_count": 8,
   "metadata": {},
   "outputs": [
    {
     "data": {
      "text/plain": [
       "0"
      ]
     },
     "execution_count": 8,
     "metadata": {},
     "output_type": "execute_result"
    }
   ],
   "source": [
    "# Exploratory Data Analysis\n",
    "df.duplicated().sum()"
   ]
  },
  {
   "cell_type": "code",
   "execution_count": 9,
   "metadata": {},
   "outputs": [
    {
     "data": {
      "text/plain": [
       "Accident_severity\n",
       "Slight Injury     10415\n",
       "Serious Injury     1743\n",
       "Fatal injury        158\n",
       "Name: count, dtype: int64"
      ]
     },
     "execution_count": 9,
     "metadata": {},
     "output_type": "execute_result"
    }
   ],
   "source": [
    "df[\"Accident_severity\"].value_counts()"
   ]
  },
  {
   "cell_type": "code",
   "execution_count": 10,
   "metadata": {},
   "outputs": [
    {
     "data": {
      "text/plain": [
       "Text(0.5, 1.0, 'Distribution of Accident severity')"
      ]
     },
     "execution_count": 10,
     "metadata": {},
     "output_type": "execute_result"
    },
    {
     "data": {
      "image/png": "[encoded data removed]",
      "text/plain": [
       "<Figure size 640x480 with 1 Axes>"
      ]
     },
     "metadata": {},
     "output_type": "display_data"
    }
   ],
   "source": [
    "sns.countplot(x = df[\"Accident_severity\"])\n",
    "plt.title(\"Distribution of Accident severity\")"
   ]
  },
  {
   "cell_type": "code",
   "execution_count": 11,
   "metadata": {},
   "outputs": [
    {
     "data": {
      "text/plain": [
       "Time                              0\n",
       "Day_of_week                       0\n",
       "Age_band_of_driver                0\n",
       "Sex_of_driver                     0\n",
       "Educational_level               741\n",
       "Vehicle_driver_relation         579\n",
       "Driving_experience              829\n",
       "Type_of_vehicle                 950\n",
       "Owner_of_vehicle                482\n",
       "Service_year_of_vehicle        3928\n",
       "Defect_of_vehicle              4427\n",
       "Area_accident_occured           239\n",
       "Lanes_or_Medians                385\n",
       "Road_allignment                 142\n",
       "Types_of_Junction               887\n",
       "Road_surface_type               172\n",
       "Road_surface_conditions           0\n",
       "Light_conditions                  0\n",
       "Weather_conditions                0\n",
       "Type_of_collision               155\n",
       "Number_of_vehicles_involved       0\n",
       "Number_of_casualties              0\n",
       "Vehicle_movement                308\n",
       "Casualty_class                    0\n",
       "Sex_of_casualty                   0\n",
       "Age_band_of_casualty              0\n",
       "Casualty_severity                 0\n",
       "Work_of_casuality              3198\n",
       "Fitness_of_casuality           2635\n",
       "Pedestrian_movement               0\n",
       "Cause_of_accident                 0\n",
       "Accident_severity                 0\n",
       "dtype: int64"
      ]
     },
     "execution_count": 11,
     "metadata": {},
     "output_type": "execute_result"
    }
   ],
   "source": [
    "# check of missing values\n",
    "df.isna().sum()"
   ]
  },
  {
   "cell_type": "code",
   "execution_count": 12,
   "metadata": {},
   "outputs": [],
   "source": [
    "# removing the labels which have more than 2000\n",
    "# missing values\n",
    "df.drop(['Service_year_of_vehicle', 'Defect_of_vehicle',\n",
    "         'Work_of_casuality', 'Fitness_of_casuality',\n",
    "         'Time'], axis=1, inplace=True)"
   ]
  },
  {
   "cell_type": "code",
   "execution_count": 13,
   "metadata": {},
   "outputs": [
    {
     "data": {
      "text/html": [
       "<div>\n",
       "<style scoped>\n",
       "    .dataframe tbody tr th:only-of-type {\n",
       "        vertical-align: middle;\n",
       "    }\n",
       "\n",
       "    .dataframe tbody tr th {\n",
       "        vertical-align: top;\n",
       "    }\n",
       "\n",
       "    .dataframe thead th {\n",
       "        text-align: right;\n",
       "    }\n",
       "</style>\n",
       "<table border=\"1\" class=\"dataframe\">\n",
       "  <thead>\n",
       "    <tr style=\"text-align: right;\">\n",
       "      <th></th>\n",
       "      <th>Day_of_week</th>\n",
       "      <th>Age_band_of_driver</th>\n",
       "      <th>Sex_of_driver</th>\n",
       "      <th>Educational_level</th>\n",
       "      <th>Vehicle_driver_relation</th>\n",
       "      <th>Driving_experience</th>\n",
       "      <th>Type_of_vehicle</th>\n",
       "      <th>Owner_of_vehicle</th>\n",
       "      <th>Area_accident_occured</th>\n",
       "      <th>Lanes_or_Medians</th>\n",
       "      <th>...</th>\n",
       "      <th>Number_of_vehicles_involved</th>\n",
       "      <th>Number_of_casualties</th>\n",
       "      <th>Vehicle_movement</th>\n",
       "      <th>Casualty_class</th>\n",
       "      <th>Sex_of_casualty</th>\n",
       "      <th>Age_band_of_casualty</th>\n",
       "      <th>Casualty_severity</th>\n",
       "      <th>Pedestrian_movement</th>\n",
       "      <th>Cause_of_accident</th>\n",
       "      <th>Accident_severity</th>\n",
       "    </tr>\n",
       "  </thead>\n",
       "  <tbody>\n",
       "    <tr>\n",
       "      <th>0</th>\n",
       "      <td>Monday</td>\n",
       "      <td>18-30</td>\n",
       "      <td>Male</td>\n",
       "      <td>Above high school</td>\n",
       "      <td>Employee</td>\n",
       "      <td>1-2yr</td>\n",
       "      <td>Automobile</td>\n",
       "      <td>Owner</td>\n",
       "      <td>Residential areas</td>\n",
       "      <td>NaN</td>\n",
       "      <td>...</td>\n",
       "      <td>2</td>\n",
       "      <td>2</td>\n",
       "      <td>Going straight</td>\n",
       "      <td>na</td>\n",
       "      <td>na</td>\n",
       "      <td>na</td>\n",
       "      <td>na</td>\n",
       "      <td>Not a Pedestrian</td>\n",
       "      <td>Moving Backward</td>\n",
       "      <td>Slight Injury</td>\n",
       "    </tr>\n",
       "    <tr>\n",
       "      <th>1</th>\n",
       "      <td>Monday</td>\n",
       "      <td>31-50</td>\n",
       "      <td>Male</td>\n",
       "      <td>Junior high school</td>\n",
       "      <td>Employee</td>\n",
       "      <td>Above 10yr</td>\n",
       "      <td>Public (&gt; 45 seats)</td>\n",
       "      <td>Owner</td>\n",
       "      <td>Office areas</td>\n",
       "      <td>Undivided Two way</td>\n",
       "      <td>...</td>\n",
       "      <td>2</td>\n",
       "      <td>2</td>\n",
       "      <td>Going straight</td>\n",
       "      <td>na</td>\n",
       "      <td>na</td>\n",
       "      <td>na</td>\n",
       "      <td>na</td>\n",
       "      <td>Not a Pedestrian</td>\n",
       "      <td>Overtaking</td>\n",
       "      <td>Slight Injury</td>\n",
       "    </tr>\n",
       "    <tr>\n",
       "      <th>2</th>\n",
       "      <td>Monday</td>\n",
       "      <td>18-30</td>\n",
       "      <td>Male</td>\n",
       "      <td>Junior high school</td>\n",
       "      <td>Employee</td>\n",
       "      <td>1-2yr</td>\n",
       "      <td>Lorry (41?100Q)</td>\n",
       "      <td>Owner</td>\n",
       "      <td>Recreational areas</td>\n",
       "      <td>other</td>\n",
       "      <td>...</td>\n",
       "      <td>2</td>\n",
       "      <td>2</td>\n",
       "      <td>Going straight</td>\n",
       "      <td>Driver or rider</td>\n",
       "      <td>Male</td>\n",
       "      <td>31-50</td>\n",
       "      <td>3</td>\n",
       "      <td>Not a Pedestrian</td>\n",
       "      <td>Changing lane to the left</td>\n",
       "      <td>Serious Injury</td>\n",
       "    </tr>\n",
       "    <tr>\n",
       "      <th>3</th>\n",
       "      <td>Sunday</td>\n",
       "      <td>18-30</td>\n",
       "      <td>Male</td>\n",
       "      <td>Junior high school</td>\n",
       "      <td>Employee</td>\n",
       "      <td>5-10yr</td>\n",
       "      <td>Public (&gt; 45 seats)</td>\n",
       "      <td>Governmental</td>\n",
       "      <td>Office areas</td>\n",
       "      <td>other</td>\n",
       "      <td>...</td>\n",
       "      <td>2</td>\n",
       "      <td>2</td>\n",
       "      <td>Going straight</td>\n",
       "      <td>Pedestrian</td>\n",
       "      <td>Female</td>\n",
       "      <td>18-30</td>\n",
       "      <td>3</td>\n",
       "      <td>Not a Pedestrian</td>\n",
       "      <td>Changing lane to the right</td>\n",
       "      <td>Slight Injury</td>\n",
       "    </tr>\n",
       "    <tr>\n",
       "      <th>4</th>\n",
       "      <td>Sunday</td>\n",
       "      <td>18-30</td>\n",
       "      <td>Male</td>\n",
       "      <td>Junior high school</td>\n",
       "      <td>Employee</td>\n",
       "      <td>2-5yr</td>\n",
       "      <td>NaN</td>\n",
       "      <td>Owner</td>\n",
       "      <td>Industrial areas</td>\n",
       "      <td>other</td>\n",
       "      <td>...</td>\n",
       "      <td>2</td>\n",
       "      <td>2</td>\n",
       "      <td>Going straight</td>\n",
       "      <td>na</td>\n",
       "      <td>na</td>\n",
       "      <td>na</td>\n",
       "      <td>na</td>\n",
       "      <td>Not a Pedestrian</td>\n",
       "      <td>Overtaking</td>\n",
       "      <td>Slight Injury</td>\n",
       "    </tr>\n",
       "  </tbody>\n",
       "</table>\n",
       "<p>5 rows × 27 columns</p>\n",
       "</div>"
      ],
      "text/plain": [
       "  Day_of_week Age_band_of_driver Sex_of_driver   Educational_level  \\\n",
       "0      Monday              18-30          Male   Above high school   \n",
       "1      Monday              31-50          Male  Junior high school   \n",
       "2      Monday              18-30          Male  Junior high school   \n",
       "3      Sunday              18-30          Male  Junior high school   \n",
       "4      Sunday              18-30          Male  Junior high school   \n",
       "\n",
       "  Vehicle_driver_relation Driving_experience      Type_of_vehicle  \\\n",
       "0                Employee              1-2yr           Automobile   \n",
       "1                Employee         Above 10yr  Public (> 45 seats)   \n",
       "2                Employee              1-2yr      Lorry (41?100Q)   \n",
       "3                Employee             5-10yr  Public (> 45 seats)   \n",
       "4                Employee              2-5yr                  NaN   \n",
       "\n",
       "  Owner_of_vehicle Area_accident_occured   Lanes_or_Medians  ...  \\\n",
       "0            Owner     Residential areas                NaN  ...   \n",
       "1            Owner          Office areas  Undivided Two way  ...   \n",
       "2            Owner    Recreational areas              other  ...   \n",
       "3     Governmental          Office areas              other  ...   \n",
       "4            Owner      Industrial areas              other  ...   \n",
       "\n",
       "  Number_of_vehicles_involved Number_of_casualties Vehicle_movement  \\\n",
       "0                           2                    2   Going straight   \n",
       "1                           2                    2   Going straight   \n",
       "2                           2                    2   Going straight   \n",
       "3                           2                    2   Going straight   \n",
       "4                           2                    2   Going straight   \n",
       "\n",
       "    Casualty_class Sex_of_casualty Age_band_of_casualty Casualty_severity  \\\n",
       "0               na              na                   na                na   \n",
       "1               na              na                   na                na   \n",
       "2  Driver or rider            Male                31-50                 3   \n",
       "3       Pedestrian          Female                18-30                 3   \n",
       "4               na              na                   na                na   \n",
       "\n",
       "   Pedestrian_movement           Cause_of_accident Accident_severity  \n",
       "0     Not a Pedestrian             Moving Backward     Slight Injury  \n",
       "1     Not a Pedestrian                  Overtaking     Slight Injury  \n",
       "2     Not a Pedestrian   Changing lane to the left    Serious Injury  \n",
       "3     Not a Pedestrian  Changing lane to the right     Slight Injury  \n",
       "4     Not a Pedestrian                  Overtaking     Slight Injury  \n",
       "\n",
       "[5 rows x 27 columns]"
      ]
     },
     "execution_count": 13,
     "metadata": {},
     "output_type": "execute_result"
    }
   ],
   "source": [
    "df.head()"
   ]
  },
  {
   "cell_type": "code",
   "execution_count": 14,
   "metadata": {},
   "outputs": [],
   "source": [
    "categorical_values = [x for x in df.columns if df[x].dtype == 'O']"
   ]
  },
  {
   "cell_type": "code",
   "execution_count": 15,
   "metadata": {},
   "outputs": [],
   "source": [
    "for i in categorical_values:\n",
    "    df[i].fillna(df[i].mode()[0], inplace=True)"
   ]
  },
  {
   "cell_type": "code",
   "execution_count": 16,
   "metadata": {},
   "outputs": [
    {
     "data": {
      "text/plain": [
       "Day_of_week                    0\n",
       "Age_band_of_driver             0\n",
       "Sex_of_driver                  0\n",
       "Educational_level              0\n",
       "Vehicle_driver_relation        0\n",
       "Driving_experience             0\n",
       "Type_of_vehicle                0\n",
       "Owner_of_vehicle               0\n",
       "Area_accident_occured          0\n",
       "Lanes_or_Medians               0\n",
       "Road_allignment                0\n",
       "Types_of_Junction              0\n",
       "Road_surface_type              0\n",
       "Road_surface_conditions        0\n",
       "Light_conditions               0\n",
       "Weather_conditions             0\n",
       "Type_of_collision              0\n",
       "Number_of_vehicles_involved    0\n",
       "Number_of_casualties           0\n",
       "Vehicle_movement               0\n",
       "Casualty_class                 0\n",
       "Sex_of_casualty                0\n",
       "Age_band_of_casualty           0\n",
       "Casualty_severity              0\n",
       "Pedestrian_movement            0\n",
       "Cause_of_accident              0\n",
       "Accident_severity              0\n",
       "dtype: int64"
      ]
     },
     "execution_count": 16,
     "metadata": {},
     "output_type": "execute_result"
    }
   ],
   "source": [
    "df.isna().sum()"
   ]
  },
  {
   "cell_type": "code",
   "execution_count": 17,
   "metadata": {},
   "outputs": [],
   "source": [
    "# from the above info we can see all the missing\n",
    "# values are handled which are replaced by the mode"
   ]
  },
  {
   "cell_type": "code",
   "execution_count": 18,
   "metadata": {},
   "outputs": [
    {
     "data": {
      "text/plain": [
       "<Axes: xlabel='Number_of_casualties', ylabel='Number_of_vehicles_involved'>"
      ]
     },
     "execution_count": 18,
     "metadata": {},
     "output_type": "execute_result"
    },
    {
     "data": {
      "image/png": "[encoded data removed]",
      "text/plain": [
       "<Figure size 640x480 with 1 Axes>"
      ]
     },
     "metadata": {},
     "output_type": "display_data"
    }
   ],
   "source": [
    "# relationship between Number_of_casualties and Number_of_vehicles_involved\n",
    "sns.scatterplot(x = df[\"Number_of_casualties\"],\n",
    "                y = df['Number_of_vehicles_involved'],\n",
    "                hue = df['Accident_severity'])"
   ]
  },
  {
   "cell_type": "code",
   "execution_count": 19,
   "metadata": {},
   "outputs": [
    {
     "data": {
      "text/html": [
       "<div>\n",
       "<style scoped>\n",
       "    .dataframe tbody tr th:only-of-type {\n",
       "        vertical-align: middle;\n",
       "    }\n",
       "\n",
       "    .dataframe tbody tr th {\n",
       "        vertical-align: top;\n",
       "    }\n",
       "\n",
       "    .dataframe thead th {\n",
       "        text-align: right;\n",
       "    }\n",
       "</style>\n",
       "<table border=\"1\" class=\"dataframe\">\n",
       "  <thead>\n",
       "    <tr style=\"text-align: right;\">\n",
       "      <th></th>\n",
       "      <th>Number_of_vehicles_involved</th>\n",
       "      <th>Number_of_casualties</th>\n",
       "    </tr>\n",
       "  </thead>\n",
       "  <tbody>\n",
       "    <tr>\n",
       "      <th>Number_of_vehicles_involved</th>\n",
       "      <td>1.000000</td>\n",
       "      <td>0.213427</td>\n",
       "    </tr>\n",
       "    <tr>\n",
       "      <th>Number_of_casualties</th>\n",
       "      <td>0.213427</td>\n",
       "      <td>1.000000</td>\n",
       "    </tr>\n",
       "  </tbody>\n",
       "</table>\n",
       "</div>"
      ],
      "text/plain": [
       "                             Number_of_vehicles_involved  Number_of_casualties\n",
       "Number_of_vehicles_involved                     1.000000              0.213427\n",
       "Number_of_casualties                            0.213427              1.000000"
      ]
     },
     "execution_count": 19,
     "metadata": {},
     "output_type": "execute_result"
    }
   ],
   "source": [
    "# finding the correlation of numerical labels\n",
    "df.corr(numeric_only=True) # deperacted\n",
    "# instead use - df.corr(numeric_only=True)"
   ]
  },
  {
   "cell_type": "code",
   "execution_count": 20,
   "metadata": {},
   "outputs": [],
   "source": [
    "numerical_values = [i for i in df.columns if df[i].dtype != 'O']"
   ]
  },
  {
   "cell_type": "code",
   "execution_count": 21,
   "metadata": {},
   "outputs": [
    {
     "data": {
      "text/plain": [
       "['Number_of_vehicles_involved', 'Number_of_casualties']"
      ]
     },
     "execution_count": 21,
     "metadata": {},
     "output_type": "execute_result"
    }
   ],
   "source": [
    "numerical_values"
   ]
  },
  {
   "cell_type": "code",
   "execution_count": 22,
   "metadata": {},
   "outputs": [],
   "source": [
    "# histogram for numerical labels"
   ]
  },
  {
   "cell_type": "code",
   "execution_count": 23,
   "metadata": {},
   "outputs": [
    {
     "data": {
      "image/png": "[encoded data removed]",
      "text/plain": [
       "<Figure size 1000x1000 with 2 Axes>"
      ]
     },
     "metadata": {},
     "output_type": "display_data"
    }
   ],
   "source": [
    "plt.figure(figsize=(10, 10))\n",
    "plot = 1\n",
    "for i in numerical_values:\n",
    "    if plot <= df.shape[1]:\n",
    "        ax1 = plt.subplot(2, 2, plot)\n",
    "        plt.hist(df[i], color='red')\n",
    "        plt.xticks(fontsize=12)\n",
    "        plt.yticks(fontsize=12)\n",
    "        plt.title(i, fontsize=10)\n",
    "    plot += 1"
   ]
  },
  {
   "cell_type": "code",
   "execution_count": 24,
   "metadata": {},
   "outputs": [
    {
     "data": {
      "text/plain": [
       "Day_of_week                    object\n",
       "Age_band_of_driver             object\n",
       "Sex_of_driver                  object\n",
       "Educational_level              object\n",
       "Vehicle_driver_relation        object\n",
       "Driving_experience             object\n",
       "Type_of_vehicle                object\n",
       "Owner_of_vehicle               object\n",
       "Area_accident_occured          object\n",
       "Lanes_or_Medians               object\n",
       "Road_allignment                object\n",
       "Types_of_Junction              object\n",
       "Road_surface_type              object\n",
       "Road_surface_conditions        object\n",
       "Light_conditions               object\n",
       "Weather_conditions             object\n",
       "Type_of_collision              object\n",
       "Number_of_vehicles_involved     int64\n",
       "Number_of_casualties            int64\n",
       "Vehicle_movement               object\n",
       "Casualty_class                 object\n",
       "Sex_of_casualty                object\n",
       "Age_band_of_casualty           object\n",
       "Casualty_severity              object\n",
       "Pedestrian_movement            object\n",
       "Cause_of_accident              object\n",
       "Accident_severity              object\n",
       "dtype: object"
      ]
     },
     "execution_count": 24,
     "metadata": {},
     "output_type": "execute_result"
    }
   ],
   "source": [
    "# handling categorical values\n",
    "df.dtypes"
   ]
  },
  {
   "cell_type": "code",
   "execution_count": 25,
   "metadata": {},
   "outputs": [],
   "source": [
    "from sklearn.preprocessing import LabelEncoder\n",
    "LE = LabelEncoder()\n",
    "\n",
    "df1 = pd.DataFrame()\n",
    "\n",
    "for i in categorical_values:\n",
    "    if i != 'Accident_severity':\n",
    "        df1[i] = LE.fit_transform(df[i])"
   ]
  },
  {
   "cell_type": "code",
   "execution_count": 26,
   "metadata": {},
   "outputs": [],
   "source": [
    "df1.head()\n",
    "file_name = 'encoded_data.xlsx'\n",
    "df1.to_excel(file_name)"
   ]
  },
  {
   "cell_type": "code",
   "execution_count": 27,
   "metadata": {},
   "outputs": [],
   "source": [
    "from sklearn.feature_selection import chi2\n",
    "fp_values = chi2(df1, df['Accident_severity'])"
   ]
  },
  {
   "cell_type": "code",
   "execution_count": 28,
   "metadata": {},
   "outputs": [
    {
     "name": "stdout",
     "output_type": "stream",
     "text": [
      "(array([ 0.15822071,  8.91539214,  0.1431894 ,  0.17458477,  5.34534549,\n",
      "        4.49967858,  1.07767124,  1.10426215,  3.61654037,  3.28161464,\n",
      "        0.1319306 ,  3.08648691,  6.99480557,  0.61510308, 16.08282359,\n",
      "        1.14934538, 10.09632283,  2.20071197,  3.2168602 ,  0.12594479,\n",
      "       13.77841337,  0.20273788,  0.39747982,  3.19366551]), array([9.23937958e-01, 1.15890328e-02, 9.30908116e-01, 9.16409114e-01,\n",
      "       6.90673790e-02, 1.05416165e-01, 5.83427189e-01, 5.75721597e-01,\n",
      "       1.63937473e-01, 1.93823502e-01, 9.36163348e-01, 2.13686893e-01,\n",
      "       3.02759144e-02, 7.35244973e-01, 3.21854237e-04, 5.62889079e-01,\n",
      "       6.42112839e-03, 3.32752607e-01, 2.00201664e-01, 9.38969394e-01,\n",
      "       1.01872169e-03, 9.03599597e-01, 8.19763078e-01, 2.02536988e-01]))\n"
     ]
    }
   ],
   "source": [
    "print(fp_values)"
   ]
  },
  {
   "cell_type": "code",
   "execution_count": 29,
   "metadata": {},
   "outputs": [],
   "source": [
    "fp_values_1 = pd.DataFrame({'features': df1.columns,\n",
    "                            'Fscore': fp_values[0],\n",
    "                            'Pvalues': fp_values[1]})"
   ]
  },
  {
   "cell_type": "code",
   "execution_count": 30,
   "metadata": {},
   "outputs": [
    {
     "name": "stdout",
     "output_type": "stream",
     "text": [
      "                   features     Fscore   Pvalues\n",
      "0               Day_of_week   0.158221  0.923938\n",
      "1        Age_band_of_driver   8.915392  0.011589\n",
      "2             Sex_of_driver   0.143189  0.930908\n",
      "3         Educational_level   0.174585  0.916409\n",
      "4   Vehicle_driver_relation   5.345345  0.069067\n",
      "5        Driving_experience   4.499679  0.105416\n",
      "6           Type_of_vehicle   1.077671  0.583427\n",
      "7          Owner_of_vehicle   1.104262  0.575722\n",
      "8     Area_accident_occured   3.616540  0.163937\n",
      "9          Lanes_or_Medians   3.281615  0.193824\n",
      "10          Road_allignment   0.131931  0.936163\n",
      "11        Types_of_Junction   3.086487  0.213687\n",
      "12        Road_surface_type   6.994806  0.030276\n",
      "13  Road_surface_conditions   0.615103  0.735245\n",
      "14         Light_conditions  16.082824  0.000322\n",
      "15       Weather_conditions   1.149345  0.562889\n",
      "16        Type_of_collision  10.096323  0.006421\n",
      "17         Vehicle_movement   2.200712  0.332753\n",
      "18           Casualty_class   3.216860  0.200202\n",
      "19          Sex_of_casualty   0.125945  0.938969\n",
      "20     Age_band_of_casualty  13.778413  0.001019\n",
      "21        Casualty_severity   0.202738  0.903600\n",
      "22      Pedestrian_movement   0.397480  0.819763\n",
      "23        Cause_of_accident   3.193666  0.202537\n"
     ]
    }
   ],
   "source": [
    "print(fp_values_1)"
   ]
  },
  {
   "cell_type": "code",
   "execution_count": 31,
   "metadata": {},
   "outputs": [
    {
     "data": {
      "text/html": [
       "<div>\n",
       "<style scoped>\n",
       "    .dataframe tbody tr th:only-of-type {\n",
       "        vertical-align: middle;\n",
       "    }\n",
       "\n",
       "    .dataframe tbody tr th {\n",
       "        vertical-align: top;\n",
       "    }\n",
       "\n",
       "    .dataframe thead th {\n",
       "        text-align: right;\n",
       "    }\n",
       "</style>\n",
       "<table border=\"1\" class=\"dataframe\">\n",
       "  <thead>\n",
       "    <tr style=\"text-align: right;\">\n",
       "      <th></th>\n",
       "      <th>features</th>\n",
       "      <th>Fscore</th>\n",
       "      <th>Pvalues</th>\n",
       "    </tr>\n",
       "  </thead>\n",
       "  <tbody>\n",
       "    <tr>\n",
       "      <th>14</th>\n",
       "      <td>Light_conditions</td>\n",
       "      <td>16.082824</td>\n",
       "      <td>0.000322</td>\n",
       "    </tr>\n",
       "    <tr>\n",
       "      <th>20</th>\n",
       "      <td>Age_band_of_casualty</td>\n",
       "      <td>13.778413</td>\n",
       "      <td>0.001019</td>\n",
       "    </tr>\n",
       "    <tr>\n",
       "      <th>16</th>\n",
       "      <td>Type_of_collision</td>\n",
       "      <td>10.096323</td>\n",
       "      <td>0.006421</td>\n",
       "    </tr>\n",
       "    <tr>\n",
       "      <th>1</th>\n",
       "      <td>Age_band_of_driver</td>\n",
       "      <td>8.915392</td>\n",
       "      <td>0.011589</td>\n",
       "    </tr>\n",
       "    <tr>\n",
       "      <th>12</th>\n",
       "      <td>Road_surface_type</td>\n",
       "      <td>6.994806</td>\n",
       "      <td>0.030276</td>\n",
       "    </tr>\n",
       "    <tr>\n",
       "      <th>4</th>\n",
       "      <td>Vehicle_driver_relation</td>\n",
       "      <td>5.345345</td>\n",
       "      <td>0.069067</td>\n",
       "    </tr>\n",
       "    <tr>\n",
       "      <th>5</th>\n",
       "      <td>Driving_experience</td>\n",
       "      <td>4.499679</td>\n",
       "      <td>0.105416</td>\n",
       "    </tr>\n",
       "    <tr>\n",
       "      <th>8</th>\n",
       "      <td>Area_accident_occured</td>\n",
       "      <td>3.616540</td>\n",
       "      <td>0.163937</td>\n",
       "    </tr>\n",
       "    <tr>\n",
       "      <th>9</th>\n",
       "      <td>Lanes_or_Medians</td>\n",
       "      <td>3.281615</td>\n",
       "      <td>0.193824</td>\n",
       "    </tr>\n",
       "    <tr>\n",
       "      <th>18</th>\n",
       "      <td>Casualty_class</td>\n",
       "      <td>3.216860</td>\n",
       "      <td>0.200202</td>\n",
       "    </tr>\n",
       "    <tr>\n",
       "      <th>23</th>\n",
       "      <td>Cause_of_accident</td>\n",
       "      <td>3.193666</td>\n",
       "      <td>0.202537</td>\n",
       "    </tr>\n",
       "    <tr>\n",
       "      <th>11</th>\n",
       "      <td>Types_of_Junction</td>\n",
       "      <td>3.086487</td>\n",
       "      <td>0.213687</td>\n",
       "    </tr>\n",
       "    <tr>\n",
       "      <th>17</th>\n",
       "      <td>Vehicle_movement</td>\n",
       "      <td>2.200712</td>\n",
       "      <td>0.332753</td>\n",
       "    </tr>\n",
       "    <tr>\n",
       "      <th>15</th>\n",
       "      <td>Weather_conditions</td>\n",
       "      <td>1.149345</td>\n",
       "      <td>0.562889</td>\n",
       "    </tr>\n",
       "    <tr>\n",
       "      <th>7</th>\n",
       "      <td>Owner_of_vehicle</td>\n",
       "      <td>1.104262</td>\n",
       "      <td>0.575722</td>\n",
       "    </tr>\n",
       "    <tr>\n",
       "      <th>6</th>\n",
       "      <td>Type_of_vehicle</td>\n",
       "      <td>1.077671</td>\n",
       "      <td>0.583427</td>\n",
       "    </tr>\n",
       "    <tr>\n",
       "      <th>13</th>\n",
       "      <td>Road_surface_conditions</td>\n",
       "      <td>0.615103</td>\n",
       "      <td>0.735245</td>\n",
       "    </tr>\n",
       "    <tr>\n",
       "      <th>22</th>\n",
       "      <td>Pedestrian_movement</td>\n",
       "      <td>0.397480</td>\n",
       "      <td>0.819763</td>\n",
       "    </tr>\n",
       "    <tr>\n",
       "      <th>21</th>\n",
       "      <td>Casualty_severity</td>\n",
       "      <td>0.202738</td>\n",
       "      <td>0.903600</td>\n",
       "    </tr>\n",
       "    <tr>\n",
       "      <th>3</th>\n",
       "      <td>Educational_level</td>\n",
       "      <td>0.174585</td>\n",
       "      <td>0.916409</td>\n",
       "    </tr>\n",
       "    <tr>\n",
       "      <th>0</th>\n",
       "      <td>Day_of_week</td>\n",
       "      <td>0.158221</td>\n",
       "      <td>0.923938</td>\n",
       "    </tr>\n",
       "    <tr>\n",
       "      <th>2</th>\n",
       "      <td>Sex_of_driver</td>\n",
       "      <td>0.143189</td>\n",
       "      <td>0.930908</td>\n",
       "    </tr>\n",
       "    <tr>\n",
       "      <th>10</th>\n",
       "      <td>Road_allignment</td>\n",
       "      <td>0.131931</td>\n",
       "      <td>0.936163</td>\n",
       "    </tr>\n",
       "    <tr>\n",
       "      <th>19</th>\n",
       "      <td>Sex_of_casualty</td>\n",
       "      <td>0.125945</td>\n",
       "      <td>0.938969</td>\n",
       "    </tr>\n",
       "  </tbody>\n",
       "</table>\n",
       "</div>"
      ],
      "text/plain": [
       "                   features     Fscore   Pvalues\n",
       "14         Light_conditions  16.082824  0.000322\n",
       "20     Age_band_of_casualty  13.778413  0.001019\n",
       "16        Type_of_collision  10.096323  0.006421\n",
       "1        Age_band_of_driver   8.915392  0.011589\n",
       "12        Road_surface_type   6.994806  0.030276\n",
       "4   Vehicle_driver_relation   5.345345  0.069067\n",
       "5        Driving_experience   4.499679  0.105416\n",
       "8     Area_accident_occured   3.616540  0.163937\n",
       "9          Lanes_or_Medians   3.281615  0.193824\n",
       "18           Casualty_class   3.216860  0.200202\n",
       "23        Cause_of_accident   3.193666  0.202537\n",
       "11        Types_of_Junction   3.086487  0.213687\n",
       "17         Vehicle_movement   2.200712  0.332753\n",
       "15       Weather_conditions   1.149345  0.562889\n",
       "7          Owner_of_vehicle   1.104262  0.575722\n",
       "6           Type_of_vehicle   1.077671  0.583427\n",
       "13  Road_surface_conditions   0.615103  0.735245\n",
       "22      Pedestrian_movement   0.397480  0.819763\n",
       "21        Casualty_severity   0.202738  0.903600\n",
       "3         Educational_level   0.174585  0.916409\n",
       "0               Day_of_week   0.158221  0.923938\n",
       "2             Sex_of_driver   0.143189  0.930908\n",
       "10          Road_allignment   0.131931  0.936163\n",
       "19          Sex_of_casualty   0.125945  0.938969"
      ]
     },
     "execution_count": 31,
     "metadata": {},
     "output_type": "execute_result"
    }
   ],
   "source": [
    "# sorting about lower p-value in the encoded dataset.\n",
    "# lower p-value indicates a higher relationship\n",
    "#   between variables in the dataset\n",
    "\n",
    "fp_values_1.sort_values(by = 'Pvalues', ascending=True)"
   ]
  },
  {
   "cell_type": "code",
   "execution_count": 32,
   "metadata": {},
   "outputs": [],
   "source": [
    "df2 = df.drop(['Owner_of_vehicle', 'Type_of_vehicle',\n",
    "               'Road_surface_conditions', 'Pedestrian_movement',\n",
    "               'Casualty_severity', 'Educational_level',\n",
    "               'Day_of_week', 'Sex_of_driver', 'Road_allignment',\n",
    "               'Sex_of_casualty'], axis=1)"
   ]
  },
  {
   "cell_type": "code",
   "execution_count": 33,
   "metadata": {},
   "outputs": [],
   "source": [
    "# updating categorical values according to sorted\n",
    "# encoded data on the basis of p-value\n",
    "categorical_values_new = [i for i in \n",
    "                          df2.columns if\n",
    "                          df2[i].dtype == 'O']"
   ]
  },
  {
   "cell_type": "code",
   "execution_count": 34,
   "metadata": {},
   "outputs": [],
   "source": [
    "dummy_vars = pd.get_dummies(df2[['Age_band_of_driver', 'Vehicle_driver_relation', 'Driving_experience',\n",
    "                          'Area_accident_occured', 'Lanes_or_Medians', 'Types_of_Junction', 'Road_surface_type', \n",
    "                          'Light_conditions', 'Weather_conditions', 'Type_of_collision', 'Vehicle_movement', \n",
    "                          'Casualty_class', 'Age_band_of_casualty', 'Cause_of_accident']],drop_first=True)"
   ]
  },
  {
   "cell_type": "code",
   "execution_count": 35,
   "metadata": {},
   "outputs": [
    {
     "data": {
      "text/html": [
       "<div>\n",
       "<style scoped>\n",
       "    .dataframe tbody tr th:only-of-type {\n",
       "        vertical-align: middle;\n",
       "    }\n",
       "\n",
       "    .dataframe tbody tr th {\n",
       "        vertical-align: top;\n",
       "    }\n",
       "\n",
       "    .dataframe thead th {\n",
       "        text-align: right;\n",
       "    }\n",
       "</style>\n",
       "<table border=\"1\" class=\"dataframe\">\n",
       "  <thead>\n",
       "    <tr style=\"text-align: right;\">\n",
       "      <th></th>\n",
       "      <th>Age_band_of_driver_31-50</th>\n",
       "      <th>Age_band_of_driver_Over 51</th>\n",
       "      <th>Age_band_of_driver_Under 18</th>\n",
       "      <th>Age_band_of_driver_Unknown</th>\n",
       "      <th>Vehicle_driver_relation_Other</th>\n",
       "      <th>Vehicle_driver_relation_Owner</th>\n",
       "      <th>Vehicle_driver_relation_Unknown</th>\n",
       "      <th>Driving_experience_2-5yr</th>\n",
       "      <th>Driving_experience_5-10yr</th>\n",
       "      <th>Driving_experience_Above 10yr</th>\n",
       "      <th>...</th>\n",
       "      <th>Cause_of_accident_No distancing</th>\n",
       "      <th>Cause_of_accident_No priority to pedestrian</th>\n",
       "      <th>Cause_of_accident_No priority to vehicle</th>\n",
       "      <th>Cause_of_accident_Other</th>\n",
       "      <th>Cause_of_accident_Overloading</th>\n",
       "      <th>Cause_of_accident_Overspeed</th>\n",
       "      <th>Cause_of_accident_Overtaking</th>\n",
       "      <th>Cause_of_accident_Overturning</th>\n",
       "      <th>Cause_of_accident_Turnover</th>\n",
       "      <th>Cause_of_accident_Unknown</th>\n",
       "    </tr>\n",
       "  </thead>\n",
       "  <tbody>\n",
       "    <tr>\n",
       "      <th>0</th>\n",
       "      <td>False</td>\n",
       "      <td>False</td>\n",
       "      <td>False</td>\n",
       "      <td>False</td>\n",
       "      <td>False</td>\n",
       "      <td>False</td>\n",
       "      <td>False</td>\n",
       "      <td>False</td>\n",
       "      <td>False</td>\n",
       "      <td>False</td>\n",
       "      <td>...</td>\n",
       "      <td>False</td>\n",
       "      <td>False</td>\n",
       "      <td>False</td>\n",
       "      <td>False</td>\n",
       "      <td>False</td>\n",
       "      <td>False</td>\n",
       "      <td>False</td>\n",
       "      <td>False</td>\n",
       "      <td>False</td>\n",
       "      <td>False</td>\n",
       "    </tr>\n",
       "    <tr>\n",
       "      <th>1</th>\n",
       "      <td>True</td>\n",
       "      <td>False</td>\n",
       "      <td>False</td>\n",
       "      <td>False</td>\n",
       "      <td>False</td>\n",
       "      <td>False</td>\n",
       "      <td>False</td>\n",
       "      <td>False</td>\n",
       "      <td>False</td>\n",
       "      <td>True</td>\n",
       "      <td>...</td>\n",
       "      <td>False</td>\n",
       "      <td>False</td>\n",
       "      <td>False</td>\n",
       "      <td>False</td>\n",
       "      <td>False</td>\n",
       "      <td>False</td>\n",
       "      <td>True</td>\n",
       "      <td>False</td>\n",
       "      <td>False</td>\n",
       "      <td>False</td>\n",
       "    </tr>\n",
       "    <tr>\n",
       "      <th>2</th>\n",
       "      <td>False</td>\n",
       "      <td>False</td>\n",
       "      <td>False</td>\n",
       "      <td>False</td>\n",
       "      <td>False</td>\n",
       "      <td>False</td>\n",
       "      <td>False</td>\n",
       "      <td>False</td>\n",
       "      <td>False</td>\n",
       "      <td>False</td>\n",
       "      <td>...</td>\n",
       "      <td>False</td>\n",
       "      <td>False</td>\n",
       "      <td>False</td>\n",
       "      <td>False</td>\n",
       "      <td>False</td>\n",
       "      <td>False</td>\n",
       "      <td>False</td>\n",
       "      <td>False</td>\n",
       "      <td>False</td>\n",
       "      <td>False</td>\n",
       "    </tr>\n",
       "    <tr>\n",
       "      <th>3</th>\n",
       "      <td>False</td>\n",
       "      <td>False</td>\n",
       "      <td>False</td>\n",
       "      <td>False</td>\n",
       "      <td>False</td>\n",
       "      <td>False</td>\n",
       "      <td>False</td>\n",
       "      <td>False</td>\n",
       "      <td>True</td>\n",
       "      <td>False</td>\n",
       "      <td>...</td>\n",
       "      <td>False</td>\n",
       "      <td>False</td>\n",
       "      <td>False</td>\n",
       "      <td>False</td>\n",
       "      <td>False</td>\n",
       "      <td>False</td>\n",
       "      <td>False</td>\n",
       "      <td>False</td>\n",
       "      <td>False</td>\n",
       "      <td>False</td>\n",
       "    </tr>\n",
       "    <tr>\n",
       "      <th>4</th>\n",
       "      <td>False</td>\n",
       "      <td>False</td>\n",
       "      <td>False</td>\n",
       "      <td>False</td>\n",
       "      <td>False</td>\n",
       "      <td>False</td>\n",
       "      <td>False</td>\n",
       "      <td>True</td>\n",
       "      <td>False</td>\n",
       "      <td>False</td>\n",
       "      <td>...</td>\n",
       "      <td>False</td>\n",
       "      <td>False</td>\n",
       "      <td>False</td>\n",
       "      <td>False</td>\n",
       "      <td>False</td>\n",
       "      <td>False</td>\n",
       "      <td>True</td>\n",
       "      <td>False</td>\n",
       "      <td>False</td>\n",
       "      <td>False</td>\n",
       "    </tr>\n",
       "  </tbody>\n",
       "</table>\n",
       "<p>5 rows × 102 columns</p>\n",
       "</div>"
      ],
      "text/plain": [
       "   Age_band_of_driver_31-50  Age_band_of_driver_Over 51  \\\n",
       "0                     False                       False   \n",
       "1                      True                       False   \n",
       "2                     False                       False   \n",
       "3                     False                       False   \n",
       "4                     False                       False   \n",
       "\n",
       "   Age_band_of_driver_Under 18  Age_band_of_driver_Unknown  \\\n",
       "0                        False                       False   \n",
       "1                        False                       False   \n",
       "2                        False                       False   \n",
       "3                        False                       False   \n",
       "4                        False                       False   \n",
       "\n",
       "   Vehicle_driver_relation_Other  Vehicle_driver_relation_Owner  \\\n",
       "0                          False                          False   \n",
       "1                          False                          False   \n",
       "2                          False                          False   \n",
       "3                          False                          False   \n",
       "4                          False                          False   \n",
       "\n",
       "   Vehicle_driver_relation_Unknown  Driving_experience_2-5yr  \\\n",
       "0                            False                     False   \n",
       "1                            False                     False   \n",
       "2                            False                     False   \n",
       "3                            False                     False   \n",
       "4                            False                      True   \n",
       "\n",
       "   Driving_experience_5-10yr  Driving_experience_Above 10yr  ...  \\\n",
       "0                      False                          False  ...   \n",
       "1                      False                           True  ...   \n",
       "2                      False                          False  ...   \n",
       "3                       True                          False  ...   \n",
       "4                      False                          False  ...   \n",
       "\n",
       "   Cause_of_accident_No distancing  \\\n",
       "0                            False   \n",
       "1                            False   \n",
       "2                            False   \n",
       "3                            False   \n",
       "4                            False   \n",
       "\n",
       "   Cause_of_accident_No priority to pedestrian  \\\n",
       "0                                        False   \n",
       "1                                        False   \n",
       "2                                        False   \n",
       "3                                        False   \n",
       "4                                        False   \n",
       "\n",
       "   Cause_of_accident_No priority to vehicle  Cause_of_accident_Other  \\\n",
       "0                                     False                    False   \n",
       "1                                     False                    False   \n",
       "2                                     False                    False   \n",
       "3                                     False                    False   \n",
       "4                                     False                    False   \n",
       "\n",
       "   Cause_of_accident_Overloading  Cause_of_accident_Overspeed  \\\n",
       "0                          False                        False   \n",
       "1                          False                        False   \n",
       "2                          False                        False   \n",
       "3                          False                        False   \n",
       "4                          False                        False   \n",
       "\n",
       "   Cause_of_accident_Overtaking  Cause_of_accident_Overturning  \\\n",
       "0                         False                          False   \n",
       "1                          True                          False   \n",
       "2                         False                          False   \n",
       "3                         False                          False   \n",
       "4                          True                          False   \n",
       "\n",
       "   Cause_of_accident_Turnover  Cause_of_accident_Unknown  \n",
       "0                       False                      False  \n",
       "1                       False                      False  \n",
       "2                       False                      False  \n",
       "3                       False                      False  \n",
       "4                       False                      False  \n",
       "\n",
       "[5 rows x 102 columns]"
      ]
     },
     "execution_count": 35,
     "metadata": {},
     "output_type": "execute_result"
    }
   ],
   "source": [
    "dummy_vars.head()"
   ]
  },
  {
   "cell_type": "code",
   "execution_count": 36,
   "metadata": {},
   "outputs": [
    {
     "data": {
      "text/html": [
       "<div>\n",
       "<style scoped>\n",
       "    .dataframe tbody tr th:only-of-type {\n",
       "        vertical-align: middle;\n",
       "    }\n",
       "\n",
       "    .dataframe tbody tr th {\n",
       "        vertical-align: top;\n",
       "    }\n",
       "\n",
       "    .dataframe thead th {\n",
       "        text-align: right;\n",
       "    }\n",
       "</style>\n",
       "<table border=\"1\" class=\"dataframe\">\n",
       "  <thead>\n",
       "    <tr style=\"text-align: right;\">\n",
       "      <th></th>\n",
       "      <th>Age_band_of_driver</th>\n",
       "      <th>Vehicle_driver_relation</th>\n",
       "      <th>Driving_experience</th>\n",
       "      <th>Area_accident_occured</th>\n",
       "      <th>Lanes_or_Medians</th>\n",
       "      <th>Types_of_Junction</th>\n",
       "      <th>Road_surface_type</th>\n",
       "      <th>Light_conditions</th>\n",
       "      <th>Weather_conditions</th>\n",
       "      <th>Type_of_collision</th>\n",
       "      <th>...</th>\n",
       "      <th>Cause_of_accident_No distancing</th>\n",
       "      <th>Cause_of_accident_No priority to pedestrian</th>\n",
       "      <th>Cause_of_accident_No priority to vehicle</th>\n",
       "      <th>Cause_of_accident_Other</th>\n",
       "      <th>Cause_of_accident_Overloading</th>\n",
       "      <th>Cause_of_accident_Overspeed</th>\n",
       "      <th>Cause_of_accident_Overtaking</th>\n",
       "      <th>Cause_of_accident_Overturning</th>\n",
       "      <th>Cause_of_accident_Turnover</th>\n",
       "      <th>Cause_of_accident_Unknown</th>\n",
       "    </tr>\n",
       "  </thead>\n",
       "  <tbody>\n",
       "    <tr>\n",
       "      <th>0</th>\n",
       "      <td>18-30</td>\n",
       "      <td>Employee</td>\n",
       "      <td>1-2yr</td>\n",
       "      <td>Residential areas</td>\n",
       "      <td>Two-way (divided with broken lines road marking)</td>\n",
       "      <td>No junction</td>\n",
       "      <td>Asphalt roads</td>\n",
       "      <td>Daylight</td>\n",
       "      <td>Normal</td>\n",
       "      <td>Collision with roadside-parked vehicles</td>\n",
       "      <td>...</td>\n",
       "      <td>False</td>\n",
       "      <td>False</td>\n",
       "      <td>False</td>\n",
       "      <td>False</td>\n",
       "      <td>False</td>\n",
       "      <td>False</td>\n",
       "      <td>False</td>\n",
       "      <td>False</td>\n",
       "      <td>False</td>\n",
       "      <td>False</td>\n",
       "    </tr>\n",
       "    <tr>\n",
       "      <th>1</th>\n",
       "      <td>31-50</td>\n",
       "      <td>Employee</td>\n",
       "      <td>Above 10yr</td>\n",
       "      <td>Office areas</td>\n",
       "      <td>Undivided Two way</td>\n",
       "      <td>No junction</td>\n",
       "      <td>Asphalt roads</td>\n",
       "      <td>Daylight</td>\n",
       "      <td>Normal</td>\n",
       "      <td>Vehicle with vehicle collision</td>\n",
       "      <td>...</td>\n",
       "      <td>False</td>\n",
       "      <td>False</td>\n",
       "      <td>False</td>\n",
       "      <td>False</td>\n",
       "      <td>False</td>\n",
       "      <td>False</td>\n",
       "      <td>True</td>\n",
       "      <td>False</td>\n",
       "      <td>False</td>\n",
       "      <td>False</td>\n",
       "    </tr>\n",
       "    <tr>\n",
       "      <th>2</th>\n",
       "      <td>18-30</td>\n",
       "      <td>Employee</td>\n",
       "      <td>1-2yr</td>\n",
       "      <td>Recreational areas</td>\n",
       "      <td>other</td>\n",
       "      <td>No junction</td>\n",
       "      <td>Asphalt roads</td>\n",
       "      <td>Daylight</td>\n",
       "      <td>Normal</td>\n",
       "      <td>Collision with roadside objects</td>\n",
       "      <td>...</td>\n",
       "      <td>False</td>\n",
       "      <td>False</td>\n",
       "      <td>False</td>\n",
       "      <td>False</td>\n",
       "      <td>False</td>\n",
       "      <td>False</td>\n",
       "      <td>False</td>\n",
       "      <td>False</td>\n",
       "      <td>False</td>\n",
       "      <td>False</td>\n",
       "    </tr>\n",
       "    <tr>\n",
       "      <th>3</th>\n",
       "      <td>18-30</td>\n",
       "      <td>Employee</td>\n",
       "      <td>5-10yr</td>\n",
       "      <td>Office areas</td>\n",
       "      <td>other</td>\n",
       "      <td>Y Shape</td>\n",
       "      <td>Earth roads</td>\n",
       "      <td>Darkness - lights lit</td>\n",
       "      <td>Normal</td>\n",
       "      <td>Vehicle with vehicle collision</td>\n",
       "      <td>...</td>\n",
       "      <td>False</td>\n",
       "      <td>False</td>\n",
       "      <td>False</td>\n",
       "      <td>False</td>\n",
       "      <td>False</td>\n",
       "      <td>False</td>\n",
       "      <td>False</td>\n",
       "      <td>False</td>\n",
       "      <td>False</td>\n",
       "      <td>False</td>\n",
       "    </tr>\n",
       "    <tr>\n",
       "      <th>4</th>\n",
       "      <td>18-30</td>\n",
       "      <td>Employee</td>\n",
       "      <td>2-5yr</td>\n",
       "      <td>Industrial areas</td>\n",
       "      <td>other</td>\n",
       "      <td>Y Shape</td>\n",
       "      <td>Asphalt roads</td>\n",
       "      <td>Darkness - lights lit</td>\n",
       "      <td>Normal</td>\n",
       "      <td>Vehicle with vehicle collision</td>\n",
       "      <td>...</td>\n",
       "      <td>False</td>\n",
       "      <td>False</td>\n",
       "      <td>False</td>\n",
       "      <td>False</td>\n",
       "      <td>False</td>\n",
       "      <td>False</td>\n",
       "      <td>True</td>\n",
       "      <td>False</td>\n",
       "      <td>False</td>\n",
       "      <td>False</td>\n",
       "    </tr>\n",
       "  </tbody>\n",
       "</table>\n",
       "<p>5 rows × 119 columns</p>\n",
       "</div>"
      ],
      "text/plain": [
       "  Age_band_of_driver Vehicle_driver_relation Driving_experience  \\\n",
       "0              18-30                Employee              1-2yr   \n",
       "1              31-50                Employee         Above 10yr   \n",
       "2              18-30                Employee              1-2yr   \n",
       "3              18-30                Employee             5-10yr   \n",
       "4              18-30                Employee              2-5yr   \n",
       "\n",
       "  Area_accident_occured                                  Lanes_or_Medians  \\\n",
       "0     Residential areas  Two-way (divided with broken lines road marking)   \n",
       "1          Office areas                                 Undivided Two way   \n",
       "2    Recreational areas                                             other   \n",
       "3          Office areas                                             other   \n",
       "4      Industrial areas                                             other   \n",
       "\n",
       "  Types_of_Junction Road_surface_type       Light_conditions  \\\n",
       "0       No junction     Asphalt roads               Daylight   \n",
       "1       No junction     Asphalt roads               Daylight   \n",
       "2       No junction     Asphalt roads               Daylight   \n",
       "3           Y Shape       Earth roads  Darkness - lights lit   \n",
       "4           Y Shape     Asphalt roads  Darkness - lights lit   \n",
       "\n",
       "  Weather_conditions                        Type_of_collision  ...  \\\n",
       "0             Normal  Collision with roadside-parked vehicles  ...   \n",
       "1             Normal           Vehicle with vehicle collision  ...   \n",
       "2             Normal          Collision with roadside objects  ...   \n",
       "3             Normal           Vehicle with vehicle collision  ...   \n",
       "4             Normal           Vehicle with vehicle collision  ...   \n",
       "\n",
       "   Cause_of_accident_No distancing  \\\n",
       "0                            False   \n",
       "1                            False   \n",
       "2                            False   \n",
       "3                            False   \n",
       "4                            False   \n",
       "\n",
       "   Cause_of_accident_No priority to pedestrian  \\\n",
       "0                                        False   \n",
       "1                                        False   \n",
       "2                                        False   \n",
       "3                                        False   \n",
       "4                                        False   \n",
       "\n",
       "  Cause_of_accident_No priority to vehicle Cause_of_accident_Other  \\\n",
       "0                                    False                   False   \n",
       "1                                    False                   False   \n",
       "2                                    False                   False   \n",
       "3                                    False                   False   \n",
       "4                                    False                   False   \n",
       "\n",
       "  Cause_of_accident_Overloading Cause_of_accident_Overspeed  \\\n",
       "0                         False                       False   \n",
       "1                         False                       False   \n",
       "2                         False                       False   \n",
       "3                         False                       False   \n",
       "4                         False                       False   \n",
       "\n",
       "  Cause_of_accident_Overtaking  Cause_of_accident_Overturning  \\\n",
       "0                        False                          False   \n",
       "1                         True                          False   \n",
       "2                        False                          False   \n",
       "3                        False                          False   \n",
       "4                         True                          False   \n",
       "\n",
       "   Cause_of_accident_Turnover  Cause_of_accident_Unknown  \n",
       "0                       False                      False  \n",
       "1                       False                      False  \n",
       "2                       False                      False  \n",
       "3                       False                      False  \n",
       "4                       False                      False  \n",
       "\n",
       "[5 rows x 119 columns]"
      ]
     },
     "execution_count": 36,
     "metadata": {},
     "output_type": "execute_result"
    }
   ],
   "source": [
    "df3 = pd.concat([df2, dummy_vars], axis=1)\n",
    "df3.head()"
   ]
  },
  {
   "cell_type": "code",
   "execution_count": 37,
   "metadata": {},
   "outputs": [],
   "source": [
    "df3.drop(['Age_band_of_driver', 'Vehicle_driver_relation', 'Driving_experience',   \n",
    "          'Area_accident_occured', 'Lanes_or_Medians',\n",
    "          'Types_of_Junction', 'Road_surface_type', 'Light_conditions', 'Weather_conditions', 'Type_of_collision',\n",
    "          'Vehicle_movement','Casualty_class', 'Age_band_of_casualty', 'Cause_of_accident'],axis=1,inplace=True)"
   ]
  },
  {
   "cell_type": "code",
   "execution_count": 38,
   "metadata": {},
   "outputs": [
    {
     "data": {
      "text/html": [
       "<div>\n",
       "<style scoped>\n",
       "    .dataframe tbody tr th:only-of-type {\n",
       "        vertical-align: middle;\n",
       "    }\n",
       "\n",
       "    .dataframe tbody tr th {\n",
       "        vertical-align: top;\n",
       "    }\n",
       "\n",
       "    .dataframe thead th {\n",
       "        text-align: right;\n",
       "    }\n",
       "</style>\n",
       "<table border=\"1\" class=\"dataframe\">\n",
       "  <thead>\n",
       "    <tr style=\"text-align: right;\">\n",
       "      <th></th>\n",
       "      <th>Number_of_vehicles_involved</th>\n",
       "      <th>Number_of_casualties</th>\n",
       "      <th>Accident_severity</th>\n",
       "      <th>Age_band_of_driver_31-50</th>\n",
       "      <th>Age_band_of_driver_Over 51</th>\n",
       "      <th>Age_band_of_driver_Under 18</th>\n",
       "      <th>Age_band_of_driver_Unknown</th>\n",
       "      <th>Vehicle_driver_relation_Other</th>\n",
       "      <th>Vehicle_driver_relation_Owner</th>\n",
       "      <th>Vehicle_driver_relation_Unknown</th>\n",
       "      <th>...</th>\n",
       "      <th>Cause_of_accident_No distancing</th>\n",
       "      <th>Cause_of_accident_No priority to pedestrian</th>\n",
       "      <th>Cause_of_accident_No priority to vehicle</th>\n",
       "      <th>Cause_of_accident_Other</th>\n",
       "      <th>Cause_of_accident_Overloading</th>\n",
       "      <th>Cause_of_accident_Overspeed</th>\n",
       "      <th>Cause_of_accident_Overtaking</th>\n",
       "      <th>Cause_of_accident_Overturning</th>\n",
       "      <th>Cause_of_accident_Turnover</th>\n",
       "      <th>Cause_of_accident_Unknown</th>\n",
       "    </tr>\n",
       "  </thead>\n",
       "  <tbody>\n",
       "    <tr>\n",
       "      <th>0</th>\n",
       "      <td>2</td>\n",
       "      <td>2</td>\n",
       "      <td>Slight Injury</td>\n",
       "      <td>False</td>\n",
       "      <td>False</td>\n",
       "      <td>False</td>\n",
       "      <td>False</td>\n",
       "      <td>False</td>\n",
       "      <td>False</td>\n",
       "      <td>False</td>\n",
       "      <td>...</td>\n",
       "      <td>False</td>\n",
       "      <td>False</td>\n",
       "      <td>False</td>\n",
       "      <td>False</td>\n",
       "      <td>False</td>\n",
       "      <td>False</td>\n",
       "      <td>False</td>\n",
       "      <td>False</td>\n",
       "      <td>False</td>\n",
       "      <td>False</td>\n",
       "    </tr>\n",
       "    <tr>\n",
       "      <th>1</th>\n",
       "      <td>2</td>\n",
       "      <td>2</td>\n",
       "      <td>Slight Injury</td>\n",
       "      <td>True</td>\n",
       "      <td>False</td>\n",
       "      <td>False</td>\n",
       "      <td>False</td>\n",
       "      <td>False</td>\n",
       "      <td>False</td>\n",
       "      <td>False</td>\n",
       "      <td>...</td>\n",
       "      <td>False</td>\n",
       "      <td>False</td>\n",
       "      <td>False</td>\n",
       "      <td>False</td>\n",
       "      <td>False</td>\n",
       "      <td>False</td>\n",
       "      <td>True</td>\n",
       "      <td>False</td>\n",
       "      <td>False</td>\n",
       "      <td>False</td>\n",
       "    </tr>\n",
       "    <tr>\n",
       "      <th>2</th>\n",
       "      <td>2</td>\n",
       "      <td>2</td>\n",
       "      <td>Serious Injury</td>\n",
       "      <td>False</td>\n",
       "      <td>False</td>\n",
       "      <td>False</td>\n",
       "      <td>False</td>\n",
       "      <td>False</td>\n",
       "      <td>False</td>\n",
       "      <td>False</td>\n",
       "      <td>...</td>\n",
       "      <td>False</td>\n",
       "      <td>False</td>\n",
       "      <td>False</td>\n",
       "      <td>False</td>\n",
       "      <td>False</td>\n",
       "      <td>False</td>\n",
       "      <td>False</td>\n",
       "      <td>False</td>\n",
       "      <td>False</td>\n",
       "      <td>False</td>\n",
       "    </tr>\n",
       "    <tr>\n",
       "      <th>3</th>\n",
       "      <td>2</td>\n",
       "      <td>2</td>\n",
       "      <td>Slight Injury</td>\n",
       "      <td>False</td>\n",
       "      <td>False</td>\n",
       "      <td>False</td>\n",
       "      <td>False</td>\n",
       "      <td>False</td>\n",
       "      <td>False</td>\n",
       "      <td>False</td>\n",
       "      <td>...</td>\n",
       "      <td>False</td>\n",
       "      <td>False</td>\n",
       "      <td>False</td>\n",
       "      <td>False</td>\n",
       "      <td>False</td>\n",
       "      <td>False</td>\n",
       "      <td>False</td>\n",
       "      <td>False</td>\n",
       "      <td>False</td>\n",
       "      <td>False</td>\n",
       "    </tr>\n",
       "    <tr>\n",
       "      <th>4</th>\n",
       "      <td>2</td>\n",
       "      <td>2</td>\n",
       "      <td>Slight Injury</td>\n",
       "      <td>False</td>\n",
       "      <td>False</td>\n",
       "      <td>False</td>\n",
       "      <td>False</td>\n",
       "      <td>False</td>\n",
       "      <td>False</td>\n",
       "      <td>False</td>\n",
       "      <td>...</td>\n",
       "      <td>False</td>\n",
       "      <td>False</td>\n",
       "      <td>False</td>\n",
       "      <td>False</td>\n",
       "      <td>False</td>\n",
       "      <td>False</td>\n",
       "      <td>True</td>\n",
       "      <td>False</td>\n",
       "      <td>False</td>\n",
       "      <td>False</td>\n",
       "    </tr>\n",
       "  </tbody>\n",
       "</table>\n",
       "<p>5 rows × 105 columns</p>\n",
       "</div>"
      ],
      "text/plain": [
       "   Number_of_vehicles_involved  Number_of_casualties Accident_severity  \\\n",
       "0                            2                     2     Slight Injury   \n",
       "1                            2                     2     Slight Injury   \n",
       "2                            2                     2    Serious Injury   \n",
       "3                            2                     2     Slight Injury   \n",
       "4                            2                     2     Slight Injury   \n",
       "\n",
       "   Age_band_of_driver_31-50  Age_band_of_driver_Over 51  \\\n",
       "0                     False                       False   \n",
       "1                      True                       False   \n",
       "2                     False                       False   \n",
       "3                     False                       False   \n",
       "4                     False                       False   \n",
       "\n",
       "   Age_band_of_driver_Under 18  Age_band_of_driver_Unknown  \\\n",
       "0                        False                       False   \n",
       "1                        False                       False   \n",
       "2                        False                       False   \n",
       "3                        False                       False   \n",
       "4                        False                       False   \n",
       "\n",
       "   Vehicle_driver_relation_Other  Vehicle_driver_relation_Owner  \\\n",
       "0                          False                          False   \n",
       "1                          False                          False   \n",
       "2                          False                          False   \n",
       "3                          False                          False   \n",
       "4                          False                          False   \n",
       "\n",
       "   Vehicle_driver_relation_Unknown  ...  Cause_of_accident_No distancing  \\\n",
       "0                            False  ...                            False   \n",
       "1                            False  ...                            False   \n",
       "2                            False  ...                            False   \n",
       "3                            False  ...                            False   \n",
       "4                            False  ...                            False   \n",
       "\n",
       "   Cause_of_accident_No priority to pedestrian  \\\n",
       "0                                        False   \n",
       "1                                        False   \n",
       "2                                        False   \n",
       "3                                        False   \n",
       "4                                        False   \n",
       "\n",
       "   Cause_of_accident_No priority to vehicle  Cause_of_accident_Other  \\\n",
       "0                                     False                    False   \n",
       "1                                     False                    False   \n",
       "2                                     False                    False   \n",
       "3                                     False                    False   \n",
       "4                                     False                    False   \n",
       "\n",
       "   Cause_of_accident_Overloading  Cause_of_accident_Overspeed  \\\n",
       "0                          False                        False   \n",
       "1                          False                        False   \n",
       "2                          False                        False   \n",
       "3                          False                        False   \n",
       "4                          False                        False   \n",
       "\n",
       "   Cause_of_accident_Overtaking  Cause_of_accident_Overturning  \\\n",
       "0                         False                          False   \n",
       "1                          True                          False   \n",
       "2                         False                          False   \n",
       "3                         False                          False   \n",
       "4                          True                          False   \n",
       "\n",
       "   Cause_of_accident_Turnover  Cause_of_accident_Unknown  \n",
       "0                       False                      False  \n",
       "1                       False                      False  \n",
       "2                       False                      False  \n",
       "3                       False                      False  \n",
       "4                       False                      False  \n",
       "\n",
       "[5 rows x 105 columns]"
      ]
     },
     "execution_count": 38,
     "metadata": {},
     "output_type": "execute_result"
    }
   ],
   "source": [
    "df3.head()"
   ]
  },
  {
   "cell_type": "code",
   "execution_count": 39,
   "metadata": {},
   "outputs": [],
   "source": [
    "x = df3.drop(['Accident_severity'], axis=1)"
   ]
  },
  {
   "cell_type": "code",
   "execution_count": 40,
   "metadata": {},
   "outputs": [],
   "source": [
    "y = df3.iloc[:, 2]"
   ]
  },
  {
   "cell_type": "code",
   "execution_count": 41,
   "metadata": {},
   "outputs": [
    {
     "data": {
      "text/plain": [
       "Accident_severity\n",
       "Slight Injury     10415\n",
       "Serious Injury     1743\n",
       "Fatal injury        158\n",
       "Name: count, dtype: int64"
      ]
     },
     "execution_count": 41,
     "metadata": {},
     "output_type": "execute_result"
    }
   ],
   "source": [
    "y.value_counts()"
   ]
  },
  {
   "cell_type": "code",
   "execution_count": 42,
   "metadata": {},
   "outputs": [
    {
     "data": {
      "text/plain": [
       "<Axes: xlabel='Accident_severity', ylabel='count'>"
      ]
     },
     "execution_count": 42,
     "metadata": {},
     "output_type": "execute_result"
    },
    {
     "data": {
      "image/png": "[encoded data removed]",
      "text/plain": [
       "<Figure size 640x480 with 1 Axes>"
      ]
     },
     "metadata": {},
     "output_type": "display_data"
    }
   ],
   "source": [
    "sns.countplot(x = y, palette='muted')"
   ]
  },
  {
   "cell_type": "code",
   "execution_count": 43,
   "metadata": {},
   "outputs": [],
   "source": [
    "from imblearn.over_sampling import SMOTE\n",
    "oversample = SMOTE()\n",
    "_x, _y = oversample.fit_resample(x, y)"
   ]
  },
  {
   "cell_type": "code",
   "execution_count": 44,
   "metadata": {},
   "outputs": [
    {
     "data": {
      "text/plain": [
       "Accident_severity\n",
       "Fatal injury         10415\n",
       "Serious Injury       10415\n",
       "Slight Injury        10415\n",
       "Name: count, dtype: int64"
      ]
     },
     "execution_count": 44,
     "metadata": {},
     "output_type": "execute_result"
    }
   ],
   "source": [
    "y1 = pd.DataFrame(_y)\n",
    "y1.value_counts() # data is balanced"
   ]
  },
  {
   "cell_type": "code",
   "execution_count": 45,
   "metadata": {},
   "outputs": [
    {
     "data": {
      "text/plain": [
       "<Axes: xlabel='Accident_severity', ylabel='count'>"
      ]
     },
     "execution_count": 45,
     "metadata": {},
     "output_type": "execute_result"
    },
    {
     "data": {
      "image/png": "[encoded data removed]",
      "text/plain": [
       "<Figure size 640x480 with 1 Axes>"
      ]
     },
     "metadata": {},
     "output_type": "display_data"
    }
   ],
   "source": [
    "sns.countplot(x = _y, palette='muted')"
   ]
  },
  {
   "cell_type": "code",
   "execution_count": 46,
   "metadata": {},
   "outputs": [],
   "source": [
    "from sklearn.model_selection import train_test_split\n",
    "xtrain, xtest, ytrain, ytest = train_test_split(\n",
    "    _x, _y, test_size=0.3, random_state=42\n",
    ")"
   ]
  },
  {
   "cell_type": "code",
   "execution_count": 47,
   "metadata": {},
   "outputs": [
    {
     "name": "stdout",
     "output_type": "stream",
     "text": [
      "(21871, 104) (9374, 104) (21871,) (9374,)\n"
     ]
    }
   ],
   "source": [
    "print(xtrain.shape, xtest.shape, \n",
    "      ytrain.shape, ytest.shape)"
   ]
  },
  {
   "attachments": {},
   "cell_type": "markdown",
   "metadata": {},
   "source": [
    "### KNN"
   ]
  },
  {
   "cell_type": "code",
   "execution_count": 48,
   "metadata": {},
   "outputs": [
    {
     "data": {
      "text/html": [
       "<style>#sk-container-id-1 {color: black;background-color: white;}#sk-container-id-1 pre{padding: 0;}#sk-container-id-1 div.sk-toggleable {background-color: white;}#sk-container-id-1 label.sk-toggleable__label {cursor: pointer;display: block;width: 100%;margin-bottom: 0;padding: 0.3em;box-sizing: border-box;text-align: center;}#sk-container-id-1 label.sk-toggleable__label-arrow:before {content: \"▸\";float: left;margin-right: 0.25em;color: #696969;}#sk-container-id-1 label.sk-toggleable__label-arrow:hover:before {color: black;}#sk-container-id-1 div.sk-estimator:hover label.sk-toggleable__label-arrow:before {color: black;}#sk-container-id-1 div.sk-toggleable__content {max-height: 0;max-width: 0;overflow: hidden;text-align: left;background-color: #f0f8ff;}#sk-container-id-1 div.sk-toggleable__content pre {margin: 0.2em;color: black;border-radius: 0.25em;background-color: #f0f8ff;}#sk-container-id-1 input.sk-toggleable__control:checked~div.sk-toggleable__content {max-height: 200px;max-width: 100%;overflow: auto;}#sk-container-id-1 input.sk-toggleable__control:checked~label.sk-toggleable__label-arrow:before {content: \"▾\";}#sk-container-id-1 div.sk-estimator input.sk-toggleable__control:checked~label.sk-toggleable__label {background-color: #d4ebff;}#sk-container-id-1 div.sk-label input.sk-toggleable__control:checked~label.sk-toggleable__label {background-color: #d4ebff;}#sk-container-id-1 input.sk-hidden--visually {border: 0;clip: rect(1px 1px 1px 1px);clip: rect(1px, 1px, 1px, 1px);height: 1px;margin: -1px;overflow: hidden;padding: 0;position: absolute;width: 1px;}#sk-container-id-1 div.sk-estimator {font-family: monospace;background-color: #f0f8ff;border: 1px dotted black;border-radius: 0.25em;box-sizing: border-box;margin-bottom: 0.5em;}#sk-container-id-1 div.sk-estimator:hover {background-color: #d4ebff;}#sk-container-id-1 div.sk-parallel-item::after {content: \"\";width: 100%;border-bottom: 1px solid gray;flex-grow: 1;}#sk-container-id-1 div.sk-label:hover label.sk-toggleable__label {background-color: #d4ebff;}#sk-container-id-1 div.sk-serial::before {content: \"\";position: absolute;border-left: 1px solid gray;box-sizing: border-box;top: 0;bottom: 0;left: 50%;z-index: 0;}#sk-container-id-1 div.sk-serial {display: flex;flex-direction: column;align-items: center;background-color: white;padding-right: 0.2em;padding-left: 0.2em;position: relative;}#sk-container-id-1 div.sk-item {position: relative;z-index: 1;}#sk-container-id-1 div.sk-parallel {display: flex;align-items: stretch;justify-content: center;background-color: white;position: relative;}#sk-container-id-1 div.sk-item::before, #sk-container-id-1 div.sk-parallel-item::before {content: \"\";position: absolute;border-left: 1px solid gray;box-sizing: border-box;top: 0;bottom: 0;left: 50%;z-index: -1;}#sk-container-id-1 div.sk-parallel-item {display: flex;flex-direction: column;z-index: 1;position: relative;background-color: white;}#sk-container-id-1 div.sk-parallel-item:first-child::after {align-self: flex-end;width: 50%;}#sk-container-id-1 div.sk-parallel-item:last-child::after {align-self: flex-start;width: 50%;}#sk-container-id-1 div.sk-parallel-item:only-child::after {width: 0;}#sk-container-id-1 div.sk-dashed-wrapped {border: 1px dashed gray;margin: 0 0.4em 0.5em 0.4em;box-sizing: border-box;padding-bottom: 0.4em;background-color: white;}#sk-container-id-1 div.sk-label label {font-family: monospace;font-weight: bold;display: inline-block;line-height: 1.2em;}#sk-container-id-1 div.sk-label-container {text-align: center;}#sk-container-id-1 div.sk-container {/* jupyter's `normalize.less` sets `[hidden] { display: none; }` but bootstrap.min.css set `[hidden] { display: none !important; }` so we also need the `!important` here to be able to override the default hidden behavior on the sphinx rendered scikit-learn.org. See: https://github.com/scikit-learn/scikit-learn/issues/21755 */display: inline-block !important;position: relative;}#sk-container-id-1 div.sk-text-repr-fallback {display: none;}</style><div id=\"sk-container-id-1\" class=\"sk-top-container\"><div class=\"sk-text-repr-fallback\"><pre>KNeighborsClassifier()</pre><b>In a Jupyter environment, please rerun this cell to show the HTML representation or trust the notebook. <br />On GitHub, the HTML representation is unable to render, please try loading this page with nbviewer.org.</b></div><div class=\"sk-container\" hidden><div class=\"sk-item\"><div class=\"sk-estimator sk-toggleable\"><input class=\"sk-toggleable__control sk-hidden--visually\" id=\"sk-estimator-id-1\" type=\"checkbox\" checked><label for=\"sk-estimator-id-1\" class=\"sk-toggleable__label sk-toggleable__label-arrow\">KNeighborsClassifier</label><div class=\"sk-toggleable__content\"><pre>KNeighborsClassifier()</pre></div></div></div></div></div>"
      ],
      "text/plain": [
       "KNeighborsClassifier()"
      ]
     },
     "execution_count": 48,
     "metadata": {},
     "output_type": "execute_result"
    }
   ],
   "source": [
    "from sklearn.neighbors import KNeighborsClassifier\n",
    "mknn = KNeighborsClassifier(n_neighbors=5)\n",
    "mknn.fit(xtrain, ytrain)"
   ]
  },
  {
   "cell_type": "code",
   "execution_count": 49,
   "metadata": {},
   "outputs": [],
   "source": [
    "yknn = mknn.predict(xtest)"
   ]
  },
  {
   "cell_type": "code",
   "execution_count": 50,
   "metadata": {},
   "outputs": [],
   "source": [
    "from sklearn.metrics import classification_report, confusion_matrix, accuracy_score, ConfusionMatrixDisplay"
   ]
  },
  {
   "cell_type": "code",
   "execution_count": 51,
   "metadata": {},
   "outputs": [
    {
     "name": "stdout",
     "output_type": "stream",
     "text": [
      "[[3124    2    0]\n",
      " [ 291 2823   30]\n",
      " [ 544 1619  941]]\n"
     ]
    }
   ],
   "source": [
    "mat_knn = confusion_matrix(ytest, yknn)\n",
    "print(mat_knn)"
   ]
  },
  {
   "cell_type": "code",
   "execution_count": 52,
   "metadata": {},
   "outputs": [
    {
     "name": "stdout",
     "output_type": "stream",
     "text": [
      "<sklearn.metrics._plot.confusion_matrix.ConfusionMatrixDisplay object at 0x000001BED8741990>\n"
     ]
    },
    {
     "data": {
      "image/png": "[encoded data removed]",
      "text/plain": [
       "<Figure size 640x480 with 2 Axes>"
      ]
     },
     "metadata": {},
     "output_type": "display_data"
    }
   ],
   "source": [
    "print(ConfusionMatrixDisplay.from_predictions(\n",
    "    ytest, yknn\n",
    "))"
   ]
  },
  {
   "cell_type": "code",
   "execution_count": 53,
   "metadata": {},
   "outputs": [
    {
     "name": "stdout",
     "output_type": "stream",
     "text": [
      "accuracy_score_knn = 0.73%\n",
      "\n",
      "                precision    recall  f1-score   support\n",
      "\n",
      "  Fatal injury       0.79      1.00      0.88      3126\n",
      "Serious Injury       0.64      0.90      0.74      3144\n",
      " Slight Injury       0.97      0.30      0.46      3104\n",
      "\n",
      "      accuracy                           0.73      9374\n",
      "     macro avg       0.80      0.73      0.70      9374\n",
      "  weighted avg       0.80      0.73      0.70      9374\n",
      "\n"
     ]
    }
   ],
   "source": [
    "acc_knn = accuracy_score(ytest, yknn)\n",
    "print(f\"accuracy_score_knn = {acc_knn:.2f}%\\n\")\n",
    "\n",
    "report_knn = classification_report(ytest, yknn)\n",
    "print(report_knn)"
   ]
  },
  {
   "attachments": {},
   "cell_type": "markdown",
   "metadata": {},
   "source": [
    "### Decision Tree"
   ]
  },
  {
   "cell_type": "code",
   "execution_count": 54,
   "metadata": {},
   "outputs": [
    {
     "data": {
      "text/html": [
       "<style>#sk-container-id-2 {color: black;background-color: white;}#sk-container-id-2 pre{padding: 0;}#sk-container-id-2 div.sk-toggleable {background-color: white;}#sk-container-id-2 label.sk-toggleable__label {cursor: pointer;display: block;width: 100%;margin-bottom: 0;padding: 0.3em;box-sizing: border-box;text-align: center;}#sk-container-id-2 label.sk-toggleable__label-arrow:before {content: \"▸\";float: left;margin-right: 0.25em;color: #696969;}#sk-container-id-2 label.sk-toggleable__label-arrow:hover:before {color: black;}#sk-container-id-2 div.sk-estimator:hover label.sk-toggleable__label-arrow:before {color: black;}#sk-container-id-2 div.sk-toggleable__content {max-height: 0;max-width: 0;overflow: hidden;text-align: left;background-color: #f0f8ff;}#sk-container-id-2 div.sk-toggleable__content pre {margin: 0.2em;color: black;border-radius: 0.25em;background-color: #f0f8ff;}#sk-container-id-2 input.sk-toggleable__control:checked~div.sk-toggleable__content {max-height: 200px;max-width: 100%;overflow: auto;}#sk-container-id-2 input.sk-toggleable__control:checked~label.sk-toggleable__label-arrow:before {content: \"▾\";}#sk-container-id-2 div.sk-estimator input.sk-toggleable__control:checked~label.sk-toggleable__label {background-color: #d4ebff;}#sk-container-id-2 div.sk-label input.sk-toggleable__control:checked~label.sk-toggleable__label {background-color: #d4ebff;}#sk-container-id-2 input.sk-hidden--visually {border: 0;clip: rect(1px 1px 1px 1px);clip: rect(1px, 1px, 1px, 1px);height: 1px;margin: -1px;overflow: hidden;padding: 0;position: absolute;width: 1px;}#sk-container-id-2 div.sk-estimator {font-family: monospace;background-color: #f0f8ff;border: 1px dotted black;border-radius: 0.25em;box-sizing: border-box;margin-bottom: 0.5em;}#sk-container-id-2 div.sk-estimator:hover {background-color: #d4ebff;}#sk-container-id-2 div.sk-parallel-item::after {content: \"\";width: 100%;border-bottom: 1px solid gray;flex-grow: 1;}#sk-container-id-2 div.sk-label:hover label.sk-toggleable__label {background-color: #d4ebff;}#sk-container-id-2 div.sk-serial::before {content: \"\";position: absolute;border-left: 1px solid gray;box-sizing: border-box;top: 0;bottom: 0;left: 50%;z-index: 0;}#sk-container-id-2 div.sk-serial {display: flex;flex-direction: column;align-items: center;background-color: white;padding-right: 0.2em;padding-left: 0.2em;position: relative;}#sk-container-id-2 div.sk-item {position: relative;z-index: 1;}#sk-container-id-2 div.sk-parallel {display: flex;align-items: stretch;justify-content: center;background-color: white;position: relative;}#sk-container-id-2 div.sk-item::before, #sk-container-id-2 div.sk-parallel-item::before {content: \"\";position: absolute;border-left: 1px solid gray;box-sizing: border-box;top: 0;bottom: 0;left: 50%;z-index: -1;}#sk-container-id-2 div.sk-parallel-item {display: flex;flex-direction: column;z-index: 1;position: relative;background-color: white;}#sk-container-id-2 div.sk-parallel-item:first-child::after {align-self: flex-end;width: 50%;}#sk-container-id-2 div.sk-parallel-item:last-child::after {align-self: flex-start;width: 50%;}#sk-container-id-2 div.sk-parallel-item:only-child::after {width: 0;}#sk-container-id-2 div.sk-dashed-wrapped {border: 1px dashed gray;margin: 0 0.4em 0.5em 0.4em;box-sizing: border-box;padding-bottom: 0.4em;background-color: white;}#sk-container-id-2 div.sk-label label {font-family: monospace;font-weight: bold;display: inline-block;line-height: 1.2em;}#sk-container-id-2 div.sk-label-container {text-align: center;}#sk-container-id-2 div.sk-container {/* jupyter's `normalize.less` sets `[hidden] { display: none; }` but bootstrap.min.css set `[hidden] { display: none !important; }` so we also need the `!important` here to be able to override the default hidden behavior on the sphinx rendered scikit-learn.org. See: https://github.com/scikit-learn/scikit-learn/issues/21755 */display: inline-block !important;position: relative;}#sk-container-id-2 div.sk-text-repr-fallback {display: none;}</style><div id=\"sk-container-id-2\" class=\"sk-top-container\"><div class=\"sk-text-repr-fallback\"><pre>DecisionTreeClassifier(criterion=&#x27;entropy&#x27;)</pre><b>In a Jupyter environment, please rerun this cell to show the HTML representation or trust the notebook. <br />On GitHub, the HTML representation is unable to render, please try loading this page with nbviewer.org.</b></div><div class=\"sk-container\" hidden><div class=\"sk-item\"><div class=\"sk-estimator sk-toggleable\"><input class=\"sk-toggleable__control sk-hidden--visually\" id=\"sk-estimator-id-2\" type=\"checkbox\" checked><label for=\"sk-estimator-id-2\" class=\"sk-toggleable__label sk-toggleable__label-arrow\">DecisionTreeClassifier</label><div class=\"sk-toggleable__content\"><pre>DecisionTreeClassifier(criterion=&#x27;entropy&#x27;)</pre></div></div></div></div></div>"
      ],
      "text/plain": [
       "DecisionTreeClassifier(criterion='entropy')"
      ]
     },
     "execution_count": 54,
     "metadata": {},
     "output_type": "execute_result"
    }
   ],
   "source": [
    "from sklearn.tree import DecisionTreeClassifier\n",
    "mdec = DecisionTreeClassifier(criterion='entropy')\n",
    "mdec.fit(xtrain, ytrain)"
   ]
  },
  {
   "cell_type": "code",
   "execution_count": 55,
   "metadata": {},
   "outputs": [],
   "source": [
    "ydec = mdec.predict(xtest)"
   ]
  },
  {
   "cell_type": "code",
   "execution_count": 56,
   "metadata": {},
   "outputs": [
    {
     "name": "stdout",
     "output_type": "stream",
     "text": [
      "[[3101    9   16]\n",
      " [  73 2645  426]\n",
      " [  85  809 2210]]\n"
     ]
    }
   ],
   "source": [
    "mat_dec = confusion_matrix(ytest, ydec)\n",
    "print(mat_dec)"
   ]
  },
  {
   "cell_type": "code",
   "execution_count": 57,
   "metadata": {},
   "outputs": [
    {
     "name": "stdout",
     "output_type": "stream",
     "text": [
      "<sklearn.metrics._plot.confusion_matrix.ConfusionMatrixDisplay object at 0x000001BED8844810>\n"
     ]
    },
    {
     "data": {
      "image/png": "[encoded data removed]",
      "text/plain": [
       "<Figure size 640x480 with 2 Axes>"
      ]
     },
     "metadata": {},
     "output_type": "display_data"
    }
   ],
   "source": [
    "print(ConfusionMatrixDisplay.from_predictions(ytest, ydec))"
   ]
  },
  {
   "cell_type": "code",
   "execution_count": 58,
   "metadata": {},
   "outputs": [
    {
     "name": "stdout",
     "output_type": "stream",
     "text": [
      "accuracy_score_decisiontree = 0.85%\n",
      "\n",
      "                precision    recall  f1-score   support\n",
      "\n",
      "  Fatal injury       0.95      0.99      0.97      3126\n",
      "Serious Injury       0.76      0.84      0.80      3144\n",
      " Slight Injury       0.83      0.71      0.77      3104\n",
      "\n",
      "      accuracy                           0.85      9374\n",
      "     macro avg       0.85      0.85      0.85      9374\n",
      "  weighted avg       0.85      0.85      0.85      9374\n",
      "\n"
     ]
    }
   ],
   "source": [
    "acc_dec = accuracy_score(ytest, ydec)\n",
    "print(f\"accuracy_score_decisiontree = {acc_dec:.2f}%\\n\")\n",
    "\n",
    "report_dec = classification_report(ytest, ydec)\n",
    "print(report_dec)"
   ]
  },
  {
   "attachments": {},
   "cell_type": "markdown",
   "metadata": {},
   "source": [
    "### Random Forest"
   ]
  },
  {
   "cell_type": "code",
   "execution_count": 59,
   "metadata": {},
   "outputs": [
    {
     "data": {
      "text/html": [
       "<style>#sk-container-id-3 {color: black;background-color: white;}#sk-container-id-3 pre{padding: 0;}#sk-container-id-3 div.sk-toggleable {background-color: white;}#sk-container-id-3 label.sk-toggleable__label {cursor: pointer;display: block;width: 100%;margin-bottom: 0;padding: 0.3em;box-sizing: border-box;text-align: center;}#sk-container-id-3 label.sk-toggleable__label-arrow:before {content: \"▸\";float: left;margin-right: 0.25em;color: #696969;}#sk-container-id-3 label.sk-toggleable__label-arrow:hover:before {color: black;}#sk-container-id-3 div.sk-estimator:hover label.sk-toggleable__label-arrow:before {color: black;}#sk-container-id-3 div.sk-toggleable__content {max-height: 0;max-width: 0;overflow: hidden;text-align: left;background-color: #f0f8ff;}#sk-container-id-3 div.sk-toggleable__content pre {margin: 0.2em;color: black;border-radius: 0.25em;background-color: #f0f8ff;}#sk-container-id-3 input.sk-toggleable__control:checked~div.sk-toggleable__content {max-height: 200px;max-width: 100%;overflow: auto;}#sk-container-id-3 input.sk-toggleable__control:checked~label.sk-toggleable__label-arrow:before {content: \"▾\";}#sk-container-id-3 div.sk-estimator input.sk-toggleable__control:checked~label.sk-toggleable__label {background-color: #d4ebff;}#sk-container-id-3 div.sk-label input.sk-toggleable__control:checked~label.sk-toggleable__label {background-color: #d4ebff;}#sk-container-id-3 input.sk-hidden--visually {border: 0;clip: rect(1px 1px 1px 1px);clip: rect(1px, 1px, 1px, 1px);height: 1px;margin: -1px;overflow: hidden;padding: 0;position: absolute;width: 1px;}#sk-container-id-3 div.sk-estimator {font-family: monospace;background-color: #f0f8ff;border: 1px dotted black;border-radius: 0.25em;box-sizing: border-box;margin-bottom: 0.5em;}#sk-container-id-3 div.sk-estimator:hover {background-color: #d4ebff;}#sk-container-id-3 div.sk-parallel-item::after {content: \"\";width: 100%;border-bottom: 1px solid gray;flex-grow: 1;}#sk-container-id-3 div.sk-label:hover label.sk-toggleable__label {background-color: #d4ebff;}#sk-container-id-3 div.sk-serial::before {content: \"\";position: absolute;border-left: 1px solid gray;box-sizing: border-box;top: 0;bottom: 0;left: 50%;z-index: 0;}#sk-container-id-3 div.sk-serial {display: flex;flex-direction: column;align-items: center;background-color: white;padding-right: 0.2em;padding-left: 0.2em;position: relative;}#sk-container-id-3 div.sk-item {position: relative;z-index: 1;}#sk-container-id-3 div.sk-parallel {display: flex;align-items: stretch;justify-content: center;background-color: white;position: relative;}#sk-container-id-3 div.sk-item::before, #sk-container-id-3 div.sk-parallel-item::before {content: \"\";position: absolute;border-left: 1px solid gray;box-sizing: border-box;top: 0;bottom: 0;left: 50%;z-index: -1;}#sk-container-id-3 div.sk-parallel-item {display: flex;flex-direction: column;z-index: 1;position: relative;background-color: white;}#sk-container-id-3 div.sk-parallel-item:first-child::after {align-self: flex-end;width: 50%;}#sk-container-id-3 div.sk-parallel-item:last-child::after {align-self: flex-start;width: 50%;}#sk-container-id-3 div.sk-parallel-item:only-child::after {width: 0;}#sk-container-id-3 div.sk-dashed-wrapped {border: 1px dashed gray;margin: 0 0.4em 0.5em 0.4em;box-sizing: border-box;padding-bottom: 0.4em;background-color: white;}#sk-container-id-3 div.sk-label label {font-family: monospace;font-weight: bold;display: inline-block;line-height: 1.2em;}#sk-container-id-3 div.sk-label-container {text-align: center;}#sk-container-id-3 div.sk-container {/* jupyter's `normalize.less` sets `[hidden] { display: none; }` but bootstrap.min.css set `[hidden] { display: none !important; }` so we also need the `!important` here to be able to override the default hidden behavior on the sphinx rendered scikit-learn.org. See: https://github.com/scikit-learn/scikit-learn/issues/21755 */display: inline-block !important;position: relative;}#sk-container-id-3 div.sk-text-repr-fallback {display: none;}</style><div id=\"sk-container-id-3\" class=\"sk-top-container\"><div class=\"sk-text-repr-fallback\"><pre>RandomForestClassifier(criterion=&#x27;entropy&#x27;, n_estimators=25)</pre><b>In a Jupyter environment, please rerun this cell to show the HTML representation or trust the notebook. <br />On GitHub, the HTML representation is unable to render, please try loading this page with nbviewer.org.</b></div><div class=\"sk-container\" hidden><div class=\"sk-item\"><div class=\"sk-estimator sk-toggleable\"><input class=\"sk-toggleable__control sk-hidden--visually\" id=\"sk-estimator-id-3\" type=\"checkbox\" checked><label for=\"sk-estimator-id-3\" class=\"sk-toggleable__label sk-toggleable__label-arrow\">RandomForestClassifier</label><div class=\"sk-toggleable__content\"><pre>RandomForestClassifier(criterion=&#x27;entropy&#x27;, n_estimators=25)</pre></div></div></div></div></div>"
      ],
      "text/plain": [
       "RandomForestClassifier(criterion='entropy', n_estimators=25)"
      ]
     },
     "execution_count": 59,
     "metadata": {},
     "output_type": "execute_result"
    }
   ],
   "source": [
    "from sklearn.ensemble import RandomForestClassifier\n",
    "mran = RandomForestClassifier(n_estimators=25,\n",
    "                              criterion='entropy')\n",
    "mran.fit(xtrain, ytrain)"
   ]
  },
  {
   "cell_type": "code",
   "execution_count": 60,
   "metadata": {},
   "outputs": [],
   "source": [
    "yran = mran.predict(xtest)"
   ]
  },
  {
   "cell_type": "code",
   "execution_count": 61,
   "metadata": {},
   "outputs": [
    {
     "name": "stdout",
     "output_type": "stream",
     "text": [
      "[[3104    5   17]\n",
      " [  34 2809  301]\n",
      " [  19  528 2557]]\n"
     ]
    }
   ],
   "source": [
    "mat_raf = confusion_matrix(ytest, yran)\n",
    "print(mat_raf)"
   ]
  },
  {
   "cell_type": "code",
   "execution_count": 62,
   "metadata": {},
   "outputs": [
    {
     "name": "stdout",
     "output_type": "stream",
     "text": [
      "<sklearn.metrics._plot.confusion_matrix.ConfusionMatrixDisplay object at 0x000001BED8820790>\n"
     ]
    },
    {
     "data": {
      "image/png": "[encoded data removed]",
      "text/plain": [
       "<Figure size 640x480 with 2 Axes>"
      ]
     },
     "metadata": {},
     "output_type": "display_data"
    }
   ],
   "source": [
    "print(ConfusionMatrixDisplay.from_predictions(\n",
    "    ytest, yran\n",
    "))"
   ]
  },
  {
   "cell_type": "code",
   "execution_count": 63,
   "metadata": {},
   "outputs": [
    {
     "name": "stdout",
     "output_type": "stream",
     "text": [
      "accuracy_score_randomforest = 0.90%\n",
      "\n",
      "                precision    recall  f1-score   support\n",
      "\n",
      "  Fatal injury       0.98      0.99      0.99      3126\n",
      "Serious Injury       0.84      0.89      0.87      3144\n",
      " Slight Injury       0.89      0.82      0.86      3104\n",
      "\n",
      "      accuracy                           0.90      9374\n",
      "     macro avg       0.90      0.90      0.90      9374\n",
      "  weighted avg       0.90      0.90      0.90      9374\n",
      "\n"
     ]
    }
   ],
   "source": [
    "acc_raf = accuracy_score(ytest, yran)\n",
    "print(f\"accuracy_score_randomforest = {acc_raf:.2f}%\\n\")\n",
    "\n",
    "report_raf = classification_report(ytest, yran)\n",
    "print(report_raf)"
   ]
  },
  {
   "attachments": {},
   "cell_type": "markdown",
   "metadata": {},
   "source": [
    "### SVM"
   ]
  },
  {
   "cell_type": "code",
   "execution_count": 64,
   "metadata": {},
   "outputs": [
    {
     "data": {
      "text/html": [
       "<style>#sk-container-id-4 {color: black;background-color: white;}#sk-container-id-4 pre{padding: 0;}#sk-container-id-4 div.sk-toggleable {background-color: white;}#sk-container-id-4 label.sk-toggleable__label {cursor: pointer;display: block;width: 100%;margin-bottom: 0;padding: 0.3em;box-sizing: border-box;text-align: center;}#sk-container-id-4 label.sk-toggleable__label-arrow:before {content: \"▸\";float: left;margin-right: 0.25em;color: #696969;}#sk-container-id-4 label.sk-toggleable__label-arrow:hover:before {color: black;}#sk-container-id-4 div.sk-estimator:hover label.sk-toggleable__label-arrow:before {color: black;}#sk-container-id-4 div.sk-toggleable__content {max-height: 0;max-width: 0;overflow: hidden;text-align: left;background-color: #f0f8ff;}#sk-container-id-4 div.sk-toggleable__content pre {margin: 0.2em;color: black;border-radius: 0.25em;background-color: #f0f8ff;}#sk-container-id-4 input.sk-toggleable__control:checked~div.sk-toggleable__content {max-height: 200px;max-width: 100%;overflow: auto;}#sk-container-id-4 input.sk-toggleable__control:checked~label.sk-toggleable__label-arrow:before {content: \"▾\";}#sk-container-id-4 div.sk-estimator input.sk-toggleable__control:checked~label.sk-toggleable__label {background-color: #d4ebff;}#sk-container-id-4 div.sk-label input.sk-toggleable__control:checked~label.sk-toggleable__label {background-color: #d4ebff;}#sk-container-id-4 input.sk-hidden--visually {border: 0;clip: rect(1px 1px 1px 1px);clip: rect(1px, 1px, 1px, 1px);height: 1px;margin: -1px;overflow: hidden;padding: 0;position: absolute;width: 1px;}#sk-container-id-4 div.sk-estimator {font-family: monospace;background-color: #f0f8ff;border: 1px dotted black;border-radius: 0.25em;box-sizing: border-box;margin-bottom: 0.5em;}#sk-container-id-4 div.sk-estimator:hover {background-color: #d4ebff;}#sk-container-id-4 div.sk-parallel-item::after {content: \"\";width: 100%;border-bottom: 1px solid gray;flex-grow: 1;}#sk-container-id-4 div.sk-label:hover label.sk-toggleable__label {background-color: #d4ebff;}#sk-container-id-4 div.sk-serial::before {content: \"\";position: absolute;border-left: 1px solid gray;box-sizing: border-box;top: 0;bottom: 0;left: 50%;z-index: 0;}#sk-container-id-4 div.sk-serial {display: flex;flex-direction: column;align-items: center;background-color: white;padding-right: 0.2em;padding-left: 0.2em;position: relative;}#sk-container-id-4 div.sk-item {position: relative;z-index: 1;}#sk-container-id-4 div.sk-parallel {display: flex;align-items: stretch;justify-content: center;background-color: white;position: relative;}#sk-container-id-4 div.sk-item::before, #sk-container-id-4 div.sk-parallel-item::before {content: \"\";position: absolute;border-left: 1px solid gray;box-sizing: border-box;top: 0;bottom: 0;left: 50%;z-index: -1;}#sk-container-id-4 div.sk-parallel-item {display: flex;flex-direction: column;z-index: 1;position: relative;background-color: white;}#sk-container-id-4 div.sk-parallel-item:first-child::after {align-self: flex-end;width: 50%;}#sk-container-id-4 div.sk-parallel-item:last-child::after {align-self: flex-start;width: 50%;}#sk-container-id-4 div.sk-parallel-item:only-child::after {width: 0;}#sk-container-id-4 div.sk-dashed-wrapped {border: 1px dashed gray;margin: 0 0.4em 0.5em 0.4em;box-sizing: border-box;padding-bottom: 0.4em;background-color: white;}#sk-container-id-4 div.sk-label label {font-family: monospace;font-weight: bold;display: inline-block;line-height: 1.2em;}#sk-container-id-4 div.sk-label-container {text-align: center;}#sk-container-id-4 div.sk-container {/* jupyter's `normalize.less` sets `[hidden] { display: none; }` but bootstrap.min.css set `[hidden] { display: none !important; }` so we also need the `!important` here to be able to override the default hidden behavior on the sphinx rendered scikit-learn.org. See: https://github.com/scikit-learn/scikit-learn/issues/21755 */display: inline-block !important;position: relative;}#sk-container-id-4 div.sk-text-repr-fallback {display: none;}</style><div id=\"sk-container-id-4\" class=\"sk-top-container\"><div class=\"sk-text-repr-fallback\"><pre>SVC()</pre><b>In a Jupyter environment, please rerun this cell to show the HTML representation or trust the notebook. <br />On GitHub, the HTML representation is unable to render, please try loading this page with nbviewer.org.</b></div><div class=\"sk-container\" hidden><div class=\"sk-item\"><div class=\"sk-estimator sk-toggleable\"><input class=\"sk-toggleable__control sk-hidden--visually\" id=\"sk-estimator-id-4\" type=\"checkbox\" checked><label for=\"sk-estimator-id-4\" class=\"sk-toggleable__label sk-toggleable__label-arrow\">SVC</label><div class=\"sk-toggleable__content\"><pre>SVC()</pre></div></div></div></div></div>"
      ],
      "text/plain": [
       "SVC()"
      ]
     },
     "execution_count": 64,
     "metadata": {},
     "output_type": "execute_result"
    }
   ],
   "source": [
    "from sklearn.svm import SVC\n",
    "msvc = SVC()\n",
    "msvc.fit(xtrain, ytrain)"
   ]
  },
  {
   "cell_type": "code",
   "execution_count": 65,
   "metadata": {},
   "outputs": [],
   "source": [
    "ysvc = msvc.predict(xtest)"
   ]
  },
  {
   "cell_type": "code",
   "execution_count": 66,
   "metadata": {},
   "outputs": [
    {
     "name": "stdout",
     "output_type": "stream",
     "text": [
      "[[2996   92   38]\n",
      " [ 263 2319  562]\n",
      " [  14  245 2845]]\n"
     ]
    }
   ],
   "source": [
    "mat_svc = confusion_matrix(ytest, ysvc)\n",
    "print(mat_svc)"
   ]
  },
  {
   "cell_type": "code",
   "execution_count": 67,
   "metadata": {},
   "outputs": [
    {
     "name": "stdout",
     "output_type": "stream",
     "text": [
      "<sklearn.metrics._plot.confusion_matrix.ConfusionMatrixDisplay object at 0x000001BED886C5D0>\n"
     ]
    },
    {
     "data": {
      "image/png": "[encoded data removed]",
      "text/plain": [
       "<Figure size 640x480 with 2 Axes>"
      ]
     },
     "metadata": {},
     "output_type": "display_data"
    }
   ],
   "source": [
    "svc_cm = ConfusionMatrixDisplay.from_predictions(\n",
    "    ytest, ysvc\n",
    ")\n",
    "print(svc_cm)"
   ]
  },
  {
   "cell_type": "code",
   "execution_count": 68,
   "metadata": {},
   "outputs": [
    {
     "name": "stdout",
     "output_type": "stream",
     "text": [
      "accuracy_score_svc = 0.87%\n",
      "\n",
      "                precision    recall  f1-score   support\n",
      "\n",
      "  Fatal injury       0.92      0.96      0.94      3126\n",
      "Serious Injury       0.87      0.74      0.80      3144\n",
      " Slight Injury       0.83      0.92      0.87      3104\n",
      "\n",
      "      accuracy                           0.87      9374\n",
      "     macro avg       0.87      0.87      0.87      9374\n",
      "  weighted avg       0.87      0.87      0.87      9374\n",
      "\n"
     ]
    }
   ],
   "source": [
    "acc_svc = accuracy_score(ytest, ysvc)\n",
    "print(f\"accuracy_score_svc = {acc_svc:.2f}%\\n\")\n",
    "\n",
    "report_svc = classification_report(ytest, ysvc)\n",
    "print(report_svc)"
   ]
  },
  {
   "attachments": {},
   "cell_type": "markdown",
   "metadata": {},
   "source": [
    "### Logistic Regression"
   ]
  },
  {
   "cell_type": "code",
   "execution_count": 69,
   "metadata": {},
   "outputs": [],
   "source": [
    "from sklearn.preprocessing import StandardScaler\n",
    "sc = StandardScaler()\n",
    "x_train = sc.fit_transform(xtrain)\n",
    "x_test = sc.fit_transform(xtest)"
   ]
  },
  {
   "cell_type": "code",
   "execution_count": 70,
   "metadata": {},
   "outputs": [
    {
     "data": {
      "text/html": [
       "<style>#sk-container-id-5 {color: black;background-color: white;}#sk-container-id-5 pre{padding: 0;}#sk-container-id-5 div.sk-toggleable {background-color: white;}#sk-container-id-5 label.sk-toggleable__label {cursor: pointer;display: block;width: 100%;margin-bottom: 0;padding: 0.3em;box-sizing: border-box;text-align: center;}#sk-container-id-5 label.sk-toggleable__label-arrow:before {content: \"▸\";float: left;margin-right: 0.25em;color: #696969;}#sk-container-id-5 label.sk-toggleable__label-arrow:hover:before {color: black;}#sk-container-id-5 div.sk-estimator:hover label.sk-toggleable__label-arrow:before {color: black;}#sk-container-id-5 div.sk-toggleable__content {max-height: 0;max-width: 0;overflow: hidden;text-align: left;background-color: #f0f8ff;}#sk-container-id-5 div.sk-toggleable__content pre {margin: 0.2em;color: black;border-radius: 0.25em;background-color: #f0f8ff;}#sk-container-id-5 input.sk-toggleable__control:checked~div.sk-toggleable__content {max-height: 200px;max-width: 100%;overflow: auto;}#sk-container-id-5 input.sk-toggleable__control:checked~label.sk-toggleable__label-arrow:before {content: \"▾\";}#sk-container-id-5 div.sk-estimator input.sk-toggleable__control:checked~label.sk-toggleable__label {background-color: #d4ebff;}#sk-container-id-5 div.sk-label input.sk-toggleable__control:checked~label.sk-toggleable__label {background-color: #d4ebff;}#sk-container-id-5 input.sk-hidden--visually {border: 0;clip: rect(1px 1px 1px 1px);clip: rect(1px, 1px, 1px, 1px);height: 1px;margin: -1px;overflow: hidden;padding: 0;position: absolute;width: 1px;}#sk-container-id-5 div.sk-estimator {font-family: monospace;background-color: #f0f8ff;border: 1px dotted black;border-radius: 0.25em;box-sizing: border-box;margin-bottom: 0.5em;}#sk-container-id-5 div.sk-estimator:hover {background-color: #d4ebff;}#sk-container-id-5 div.sk-parallel-item::after {content: \"\";width: 100%;border-bottom: 1px solid gray;flex-grow: 1;}#sk-container-id-5 div.sk-label:hover label.sk-toggleable__label {background-color: #d4ebff;}#sk-container-id-5 div.sk-serial::before {content: \"\";position: absolute;border-left: 1px solid gray;box-sizing: border-box;top: 0;bottom: 0;left: 50%;z-index: 0;}#sk-container-id-5 div.sk-serial {display: flex;flex-direction: column;align-items: center;background-color: white;padding-right: 0.2em;padding-left: 0.2em;position: relative;}#sk-container-id-5 div.sk-item {position: relative;z-index: 1;}#sk-container-id-5 div.sk-parallel {display: flex;align-items: stretch;justify-content: center;background-color: white;position: relative;}#sk-container-id-5 div.sk-item::before, #sk-container-id-5 div.sk-parallel-item::before {content: \"\";position: absolute;border-left: 1px solid gray;box-sizing: border-box;top: 0;bottom: 0;left: 50%;z-index: -1;}#sk-container-id-5 div.sk-parallel-item {display: flex;flex-direction: column;z-index: 1;position: relative;background-color: white;}#sk-container-id-5 div.sk-parallel-item:first-child::after {align-self: flex-end;width: 50%;}#sk-container-id-5 div.sk-parallel-item:last-child::after {align-self: flex-start;width: 50%;}#sk-container-id-5 div.sk-parallel-item:only-child::after {width: 0;}#sk-container-id-5 div.sk-dashed-wrapped {border: 1px dashed gray;margin: 0 0.4em 0.5em 0.4em;box-sizing: border-box;padding-bottom: 0.4em;background-color: white;}#sk-container-id-5 div.sk-label label {font-family: monospace;font-weight: bold;display: inline-block;line-height: 1.2em;}#sk-container-id-5 div.sk-label-container {text-align: center;}#sk-container-id-5 div.sk-container {/* jupyter's `normalize.less` sets `[hidden] { display: none; }` but bootstrap.min.css set `[hidden] { display: none !important; }` so we also need the `!important` here to be able to override the default hidden behavior on the sphinx rendered scikit-learn.org. See: https://github.com/scikit-learn/scikit-learn/issues/21755 */display: inline-block !important;position: relative;}#sk-container-id-5 div.sk-text-repr-fallback {display: none;}</style><div id=\"sk-container-id-5\" class=\"sk-top-container\"><div class=\"sk-text-repr-fallback\"><pre>LogisticRegression(random_state=42)</pre><b>In a Jupyter environment, please rerun this cell to show the HTML representation or trust the notebook. <br />On GitHub, the HTML representation is unable to render, please try loading this page with nbviewer.org.</b></div><div class=\"sk-container\" hidden><div class=\"sk-item\"><div class=\"sk-estimator sk-toggleable\"><input class=\"sk-toggleable__control sk-hidden--visually\" id=\"sk-estimator-id-5\" type=\"checkbox\" checked><label for=\"sk-estimator-id-5\" class=\"sk-toggleable__label sk-toggleable__label-arrow\">LogisticRegression</label><div class=\"sk-toggleable__content\"><pre>LogisticRegression(random_state=42)</pre></div></div></div></div></div>"
      ],
      "text/plain": [
       "LogisticRegression(random_state=42)"
      ]
     },
     "execution_count": 70,
     "metadata": {},
     "output_type": "execute_result"
    }
   ],
   "source": [
    "from sklearn.linear_model import LogisticRegression\n",
    "classifier = LogisticRegression(random_state=42)\n",
    "classifier.fit(xtrain, ytrain)"
   ]
  },
  {
   "cell_type": "code",
   "execution_count": 71,
   "metadata": {},
   "outputs": [
    {
     "data": {
      "text/plain": [
       "array(['Fatal injury', 'Fatal injury', 'Fatal injury', ...,\n",
       "       'Slight Injury', 'Fatal injury', 'Fatal injury'], dtype=object)"
      ]
     },
     "execution_count": 71,
     "metadata": {},
     "output_type": "execute_result"
    }
   ],
   "source": [
    "classifier.predict(sc.transform(xtrain))"
   ]
  },
  {
   "cell_type": "code",
   "execution_count": 72,
   "metadata": {},
   "outputs": [],
   "source": [
    "ypred = classifier.predict(xtest)"
   ]
  },
  {
   "cell_type": "code",
   "execution_count": 73,
   "metadata": {},
   "outputs": [
    {
     "name": "stdout",
     "output_type": "stream",
     "text": [
      "[[2632  442   52]\n",
      " [ 648 1911  585]\n",
      " [  30  315 2759]]\n"
     ]
    }
   ],
   "source": [
    "mat_lr = confusion_matrix(ytest, ypred)\n",
    "print(mat_lr)"
   ]
  },
  {
   "cell_type": "code",
   "execution_count": 74,
   "metadata": {},
   "outputs": [
    {
     "name": "stdout",
     "output_type": "stream",
     "text": [
      "accuracy_score_lr = 0.78%\n",
      "\n",
      "                precision    recall  f1-score   support\n",
      "\n",
      "  Fatal injury       0.80      0.84      0.82      3126\n",
      "Serious Injury       0.72      0.61      0.66      3144\n",
      " Slight Injury       0.81      0.89      0.85      3104\n",
      "\n",
      "      accuracy                           0.78      9374\n",
      "     macro avg       0.77      0.78      0.77      9374\n",
      "  weighted avg       0.77      0.78      0.77      9374\n",
      "\n"
     ]
    }
   ],
   "source": [
    "acc_lr = accuracy_score(ytest, ypred)\n",
    "print(f\"accuracy_score_lr = {acc_lr:.2f}%\\n\")\n",
    "\n",
    "report_lr = classification_report(ytest, ypred, zero_division=1)\n",
    "print(report_lr)"
   ]
  },
  {
   "attachments": {},
   "cell_type": "markdown",
   "metadata": {},
   "source": [
    "## Comparative Analysis of Machine Learning models"
   ]
  },
  {
   "cell_type": "code",
   "execution_count": 82,
   "metadata": {},
   "outputs": [
    {
     "name": "stdout",
     "output_type": "stream",
     "text": [
      "  algorithms   accuracy\n",
      "0        KNN  73.479838\n",
      "1   DEC_TREE  84.873053\n",
      "2    RAN_FOR  90.356305\n",
      "3        SVC  87.049285\n",
      "4         LR  77.896309\n"
     ]
    }
   ],
   "source": [
    "# comparing accuracy score of the models\n",
    "# algorithm used in a list\n",
    "algorithm_used = ['KNN', 'DEC_TREE', 'RAN_FOR', 'SVC', 'LR']\n",
    "accuracy_score_of_models = [acc_knn, acc_dec, acc_raf, acc_svc, acc_lr]\n",
    "\n",
    "# creating a new dataframe of accuracy scores of the respective models\n",
    "_accuracy_sc_t = pd.DataFrame(\n",
    "    {'algorithms': algorithm_used, 'accuracy': accuracy_score_of_models}\n",
    ")\n",
    "\n",
    "_accuracy_sc_t['accuracy'] = _accuracy_sc_t['accuracy'] * 100 # formatting\n",
    "print(_accuracy_sc_t)"
   ]
  },
  {
   "cell_type": "code",
   "execution_count": 83,
   "metadata": {},
   "outputs": [],
   "source": [
    "# sorting the accuracy score table\n",
    "sorted_acc_values = _accuracy_sc_t.sort_values(by = 'accuracy', ascending=True)\n",
    "\n",
    "# in order to create a analysis from the higher to lower accurate models"
   ]
  },
  {
   "cell_type": "code",
   "execution_count": 104,
   "metadata": {},
   "outputs": [
    {
     "data": {
      "image/png": "[encoded data removed]",
      "text/plain": [
       "<Figure size 640x480 with 1 Axes>"
      ]
     },
     "metadata": {},
     "output_type": "display_data"
    }
   ],
   "source": [
    "sns.lineplot(x = 'algorithms', y = 'accuracy',\n",
    "                                    palette='muted', data=sorted_acc_values,\n",
    "                                    markers=False)\n",
    "sns.set_style(\"darkgrid\")\n",
    "plt.savefig('./results/comparative-analysis_LP', dpi=1200)\n",
    "plt.show()"
   ]
  },
  {
   "cell_type": "code",
   "execution_count": 103,
   "metadata": {},
   "outputs": [
    {
     "data": {
      "image/png": "[encoded data removed]",
      "text/plain": [
       "<Figure size 640x480 with 1 Axes>"
      ]
     },
     "metadata": {},
     "output_type": "display_data"
    }
   ],
   "source": [
    "sns.barplot(x = 'algorithms', y = 'accuracy',\n",
    "            palette='muted', data=sorted_acc_values, errwidth=0,\n",
    "            saturation=0.9)\n",
    "\n",
    "sns.set_style('darkgrid')\n",
    "plt.savefig('./results/comparative-analysis_BG', dpi=1200)\n",
    "plt.show()"
   ]
  }
 ],
 "metadata": {
  "kernelspec": {
   "display_name": "Python 3",
   "language": "python",
   "name": "python3"
  },
  "language_info": {
   "codemirror_mode": {
    "name": "ipython",
    "version": 3
   },
   "file_extension": ".py",
   "mimetype": "text/x-python",
   "name": "python",
   "nbconvert_exporter": "python",
   "pygments_lexer": "ipython3",
   "version": "3.11.3"
  },
  "orig_nbformat": 4
 },
 "nbformat": 4,
 "nbformat_minor": 2
}
